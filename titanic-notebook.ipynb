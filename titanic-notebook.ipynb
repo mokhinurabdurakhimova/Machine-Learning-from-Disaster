{
 "cells": [
  {
   "cell_type": "markdown",
   "id": "f3940360",
   "metadata": {
    "papermill": {
     "duration": 0.0427,
     "end_time": "2022-02-06T18:04:22.490494",
     "exception": false,
     "start_time": "2022-02-06T18:04:22.447794",
     "status": "completed"
    },
    "tags": []
   },
   "source": [
    "**Workflow:**\n",
    "\n",
    "* Exploratory Data Analysis.\n",
    "* Surviving rate\n",
    "* Pclass\n",
    "* Name\n",
    "* Sex\n",
    "* Age\n",
    "* SibSp, Parch\n",
    "* Ticket\n",
    "* Fare\n",
    "* Cabin\n",
    "* Embarked\n",
    "\n",
    "**Feature Engineering:**\n",
    "* Imputation on Embarked and Age columns\n",
    "* Title extraction\n",
    "* Ticket first letters\n",
    "* Cabin first letters\n",
    "* Encoding sex column\n",
    "* Family size\n",
    "* One Hot Encoding for all categorical variables\n",
    "\n",
    "**Machine Learning:**\n",
    "* Split data into train and test sets\n",
    "* Initialize a Random Forest Classifier\n",
    "* Hyperparameter Tuning with Grid Search\n",
    "* Prediction\n"
   ]
  },
  {
   "cell_type": "code",
   "execution_count": 1,
   "id": "60527939",
   "metadata": {
    "execution": {
     "iopub.execute_input": "2022-02-06T18:04:22.571716Z",
     "iopub.status.busy": "2022-02-06T18:04:22.570632Z",
     "iopub.status.idle": "2022-02-06T18:04:23.668789Z",
     "shell.execute_reply": "2022-02-06T18:04:23.669415Z",
     "shell.execute_reply.started": "2022-02-06T17:50:08.213658Z"
    },
    "papermill": {
     "duration": 1.137911,
     "end_time": "2022-02-06T18:04:23.669707",
     "exception": false,
     "start_time": "2022-02-06T18:04:22.531796",
     "status": "completed"
    },
    "tags": []
   },
   "outputs": [],
   "source": [
    "import pandas as pd\n",
    "import numpy as np \n",
    "import matplotlib.pyplot as plt\n",
    "import seaborn as sns\n",
    "import pickle\n",
    "\n",
    "# I will keep the resulting plots\n",
    "%matplotlib inline\n",
    "\n",
    "# Enable Jupyter Notebook's intellisense\n",
    "%config IPCompleter.greedy=True\n",
    "\n",
    "# We want to see whole content (non-truncated)\n",
    "pd.set_option('display.max_colwidth', None)"
   ]
  },
  {
   "cell_type": "markdown",
   "id": "da12641e",
   "metadata": {
    "papermill": {
     "duration": 0.035049,
     "end_time": "2022-02-06T18:04:23.742301",
     "exception": false,
     "start_time": "2022-02-06T18:04:23.707252",
     "status": "completed"
    },
    "tags": []
   },
   "source": [
    "# 1. Exploratory Data Analysis"
   ]
  },
  {
   "cell_type": "code",
   "execution_count": 2,
   "id": "e7656fa2",
   "metadata": {
    "execution": {
     "iopub.execute_input": "2022-02-06T18:04:23.816903Z",
     "iopub.status.busy": "2022-02-06T18:04:23.816171Z",
     "iopub.status.idle": "2022-02-06T18:04:23.908203Z",
     "shell.execute_reply": "2022-02-06T18:04:23.909128Z",
     "shell.execute_reply.started": "2022-02-06T17:50:08.381772Z"
    },
    "papermill": {
     "duration": 0.130592,
     "end_time": "2022-02-06T18:04:23.909387",
     "exception": false,
     "start_time": "2022-02-06T18:04:23.778795",
     "status": "completed"
    },
    "tags": []
   },
   "outputs": [
    {
     "data": {
      "text/html": [
       "<div>\n",
       "<style scoped>\n",
       "    .dataframe tbody tr th:only-of-type {\n",
       "        vertical-align: middle;\n",
       "    }\n",
       "\n",
       "    .dataframe tbody tr th {\n",
       "        vertical-align: top;\n",
       "    }\n",
       "\n",
       "    .dataframe thead th {\n",
       "        text-align: right;\n",
       "    }\n",
       "</style>\n",
       "<table border=\"1\" class=\"dataframe\">\n",
       "  <thead>\n",
       "    <tr style=\"text-align: right;\">\n",
       "      <th></th>\n",
       "      <th>PassengerId</th>\n",
       "      <th>Survived</th>\n",
       "      <th>Pclass</th>\n",
       "      <th>Name</th>\n",
       "      <th>Sex</th>\n",
       "      <th>Age</th>\n",
       "      <th>SibSp</th>\n",
       "      <th>Parch</th>\n",
       "      <th>Ticket</th>\n",
       "      <th>Fare</th>\n",
       "      <th>Cabin</th>\n",
       "      <th>Embarked</th>\n",
       "    </tr>\n",
       "  </thead>\n",
       "  <tbody>\n",
       "    <tr>\n",
       "      <th>0</th>\n",
       "      <td>1</td>\n",
       "      <td>0</td>\n",
       "      <td>3</td>\n",
       "      <td>Braund, Mr. Owen Harris</td>\n",
       "      <td>male</td>\n",
       "      <td>22.0</td>\n",
       "      <td>1</td>\n",
       "      <td>0</td>\n",
       "      <td>A/5 21171</td>\n",
       "      <td>7.2500</td>\n",
       "      <td>NaN</td>\n",
       "      <td>S</td>\n",
       "    </tr>\n",
       "    <tr>\n",
       "      <th>1</th>\n",
       "      <td>2</td>\n",
       "      <td>1</td>\n",
       "      <td>1</td>\n",
       "      <td>Cumings, Mrs. John Bradley (Florence Briggs Thayer)</td>\n",
       "      <td>female</td>\n",
       "      <td>38.0</td>\n",
       "      <td>1</td>\n",
       "      <td>0</td>\n",
       "      <td>PC 17599</td>\n",
       "      <td>71.2833</td>\n",
       "      <td>C85</td>\n",
       "      <td>C</td>\n",
       "    </tr>\n",
       "    <tr>\n",
       "      <th>2</th>\n",
       "      <td>3</td>\n",
       "      <td>1</td>\n",
       "      <td>3</td>\n",
       "      <td>Heikkinen, Miss. Laina</td>\n",
       "      <td>female</td>\n",
       "      <td>26.0</td>\n",
       "      <td>0</td>\n",
       "      <td>0</td>\n",
       "      <td>STON/O2. 3101282</td>\n",
       "      <td>7.9250</td>\n",
       "      <td>NaN</td>\n",
       "      <td>S</td>\n",
       "    </tr>\n",
       "    <tr>\n",
       "      <th>3</th>\n",
       "      <td>4</td>\n",
       "      <td>1</td>\n",
       "      <td>1</td>\n",
       "      <td>Futrelle, Mrs. Jacques Heath (Lily May Peel)</td>\n",
       "      <td>female</td>\n",
       "      <td>35.0</td>\n",
       "      <td>1</td>\n",
       "      <td>0</td>\n",
       "      <td>113803</td>\n",
       "      <td>53.1000</td>\n",
       "      <td>C123</td>\n",
       "      <td>S</td>\n",
       "    </tr>\n",
       "    <tr>\n",
       "      <th>4</th>\n",
       "      <td>5</td>\n",
       "      <td>0</td>\n",
       "      <td>3</td>\n",
       "      <td>Allen, Mr. William Henry</td>\n",
       "      <td>male</td>\n",
       "      <td>35.0</td>\n",
       "      <td>0</td>\n",
       "      <td>0</td>\n",
       "      <td>373450</td>\n",
       "      <td>8.0500</td>\n",
       "      <td>NaN</td>\n",
       "      <td>S</td>\n",
       "    </tr>\n",
       "  </tbody>\n",
       "</table>\n",
       "</div>"
      ],
      "text/plain": [
       "   PassengerId  Survived  Pclass  \\\n",
       "0            1         0       3   \n",
       "1            2         1       1   \n",
       "2            3         1       3   \n",
       "3            4         1       1   \n",
       "4            5         0       3   \n",
       "\n",
       "                                                  Name     Sex   Age  SibSp  \\\n",
       "0                              Braund, Mr. Owen Harris    male  22.0      1   \n",
       "1  Cumings, Mrs. John Bradley (Florence Briggs Thayer)  female  38.0      1   \n",
       "2                               Heikkinen, Miss. Laina  female  26.0      0   \n",
       "3         Futrelle, Mrs. Jacques Heath (Lily May Peel)  female  35.0      1   \n",
       "4                             Allen, Mr. William Henry    male  35.0      0   \n",
       "\n",
       "   Parch            Ticket     Fare Cabin Embarked  \n",
       "0      0         A/5 21171   7.2500   NaN        S  \n",
       "1      0          PC 17599  71.2833   C85        C  \n",
       "2      0  STON/O2. 3101282   7.9250   NaN        S  \n",
       "3      0            113803  53.1000  C123        S  \n",
       "4      0            373450   8.0500   NaN        S  "
      ]
     },
     "metadata": {},
     "output_type": "display_data"
    },
    {
     "name": "stdout",
     "output_type": "stream",
     "text": [
      "<class 'pandas.core.frame.DataFrame'>\n",
      "RangeIndex: 891 entries, 0 to 890\n",
      "Data columns (total 12 columns):\n",
      " #   Column       Non-Null Count  Dtype  \n",
      "---  ------       --------------  -----  \n",
      " 0   PassengerId  891 non-null    int64  \n",
      " 1   Survived     891 non-null    int64  \n",
      " 2   Pclass       891 non-null    int64  \n",
      " 3   Name         891 non-null    object \n",
      " 4   Sex          891 non-null    object \n",
      " 5   Age          714 non-null    float64\n",
      " 6   SibSp        891 non-null    int64  \n",
      " 7   Parch        891 non-null    int64  \n",
      " 8   Ticket       891 non-null    object \n",
      " 9   Fare         891 non-null    float64\n",
      " 10  Cabin        204 non-null    object \n",
      " 11  Embarked     889 non-null    object \n",
      "dtypes: float64(2), int64(5), object(5)\n",
      "memory usage: 83.7+ KB\n",
      "None\n",
      "<class 'pandas.core.frame.DataFrame'>\n",
      "RangeIndex: 891 entries, 0 to 890\n",
      "Data columns (total 12 columns):\n",
      " #   Column       Non-Null Count  Dtype  \n",
      "---  ------       --------------  -----  \n",
      " 0   PassengerId  891 non-null    int64  \n",
      " 1   Survived     891 non-null    int64  \n",
      " 2   Pclass       891 non-null    int64  \n",
      " 3   Name         891 non-null    object \n",
      " 4   Sex          891 non-null    object \n",
      " 5   Age          714 non-null    float64\n",
      " 6   SibSp        891 non-null    int64  \n",
      " 7   Parch        891 non-null    int64  \n",
      " 8   Ticket       891 non-null    object \n",
      " 9   Fare         891 non-null    float64\n",
      " 10  Cabin        204 non-null    object \n",
      " 11  Embarked     889 non-null    object \n",
      "dtypes: float64(2), int64(5), object(5)\n",
      "memory usage: 83.7+ KB\n",
      "None\n",
      "       PassengerId    Survived      Pclass         Age       SibSp  \\\n",
      "count   891.000000  891.000000  891.000000  714.000000  891.000000   \n",
      "mean    446.000000    0.383838    2.308642   29.699118    0.523008   \n",
      "std     257.353842    0.486592    0.836071   14.526497    1.102743   \n",
      "min       1.000000    0.000000    1.000000    0.420000    0.000000   \n",
      "25%     223.500000    0.000000    2.000000   20.125000    0.000000   \n",
      "50%     446.000000    0.000000    3.000000   28.000000    0.000000   \n",
      "75%     668.500000    1.000000    3.000000   38.000000    1.000000   \n",
      "max     891.000000    1.000000    3.000000   80.000000    8.000000   \n",
      "\n",
      "            Parch        Fare  \n",
      "count  891.000000  891.000000  \n",
      "mean     0.381594   32.204208  \n",
      "std      0.806057   49.693429  \n",
      "min      0.000000    0.000000  \n",
      "25%      0.000000    7.910400  \n",
      "50%      0.000000   14.454200  \n",
      "75%      0.000000   31.000000  \n",
      "max      6.000000  512.329200  \n"
     ]
    }
   ],
   "source": [
    "train = pd.read_csv(\"../input/titanic/train.csv\")\n",
    "\n",
    "display(train.head())\n",
    "\n",
    "print(train.info())\n",
    "print(train.info())\n",
    "print(train.describe())"
   ]
  },
  {
   "cell_type": "markdown",
   "id": "1cffdd1b",
   "metadata": {
    "papermill": {
     "duration": 0.036424,
     "end_time": "2022-02-06T18:04:23.984100",
     "exception": false,
     "start_time": "2022-02-06T18:04:23.947676",
     "status": "completed"
    },
    "tags": []
   },
   "source": [
    "**Notes:**\n",
    "\n",
    "* There are some missing values in Age, Embarked and Cabin columns.\n",
    "* We do not need PassengerId column\n",
    "* The surviving rate is 38.3% in our dataset\n",
    "\n",
    "**Survived**\n",
    "Let's start with Survived column. It contains integer 1 or 0 which correspond to surviving ( 1 = Survived, 0 = Not Survived)"
   ]
  },
  {
   "cell_type": "code",
   "execution_count": 3,
   "id": "150d94b6",
   "metadata": {
    "execution": {
     "iopub.execute_input": "2022-02-06T18:04:24.055780Z",
     "iopub.status.busy": "2022-02-06T18:04:24.055197Z",
     "iopub.status.idle": "2022-02-06T18:04:24.243648Z",
     "shell.execute_reply": "2022-02-06T18:04:24.243186Z",
     "shell.execute_reply.started": "2022-02-06T17:50:08.470101Z"
    },
    "papermill": {
     "duration": 0.225031,
     "end_time": "2022-02-06T18:04:24.243789",
     "exception": false,
     "start_time": "2022-02-06T18:04:24.018758",
     "status": "completed"
    },
    "tags": []
   },
   "outputs": [
    {
     "data": {
      "image/png": "[encoded data removed]",
      "text/plain": [
       "<Figure size 432x288 with 1 Axes>"
      ]
     },
     "metadata": {
      "needs_background": "light"
     },
     "output_type": "display_data"
    },
    {
     "name": "stdout",
     "output_type": "stream",
     "text": [
      "0    0.616162\n",
      "1    0.383838\n",
      "Name: Survived, dtype: float64\n"
     ]
    }
   ],
   "source": [
    "# Visualize with a countplot\n",
    "sns.countplot(x=\"Survived\", data=train)\n",
    "plt.show()\n",
    "\n",
    "# Print the proportions\n",
    "print(train[\"Survived\"].value_counts(normalize=True))"
   ]
  },
  {
   "cell_type": "markdown",
   "id": "56dbfcdc",
   "metadata": {
    "papermill": {
     "duration": 0.037329,
     "end_time": "2022-02-06T18:04:24.315993",
     "exception": false,
     "start_time": "2022-02-06T18:04:24.278664",
     "status": "completed"
    },
    "tags": []
   },
   "source": [
    "**Pclass**\n",
    "Pclass column contains the socioeconomic status of the passengers. It might be predictive for our model\n",
    "\n",
    "*  1 = Upper\n",
    "*  2 = Middle\n",
    "*  3 = Lower"
   ]
  },
  {
   "cell_type": "code",
   "execution_count": 4,
   "id": "7f8efafe",
   "metadata": {
    "execution": {
     "iopub.execute_input": "2022-02-06T18:04:24.394865Z",
     "iopub.status.busy": "2022-02-06T18:04:24.394198Z",
     "iopub.status.idle": "2022-02-06T18:04:24.590233Z",
     "shell.execute_reply": "2022-02-06T18:04:24.589103Z",
     "shell.execute_reply.started": "2022-02-06T17:50:08.606355Z"
    },
    "papermill": {
     "duration": 0.237393,
     "end_time": "2022-02-06T18:04:24.590479",
     "exception": false,
     "start_time": "2022-02-06T18:04:24.353086",
     "status": "completed"
    },
    "tags": []
   },
   "outputs": [
    {
     "data": {
      "image/png": "[encoded data removed]",
      "text/plain": [
       "<Figure size 432x288 with 1 Axes>"
      ]
     },
     "metadata": {
      "needs_background": "light"
     },
     "output_type": "display_data"
    },
    {
     "name": "stdout",
     "output_type": "stream",
     "text": [
      "Pclass\n",
      "1    0.629630\n",
      "2    0.472826\n",
      "3    0.242363\n",
      "Name: Survived, dtype: float64\n",
      "3    491\n",
      "1    216\n",
      "2    184\n",
      "Name: Pclass, dtype: int64\n"
     ]
    }
   ],
   "source": [
    "# Visualize with a countplot\n",
    "sns.countplot(x=\"Pclass\", hue=\"Survived\", data=train)\n",
    "plt.show()\n",
    "\n",
    "# Proportion of people survived for each class\n",
    "print(train[\"Survived\"].groupby(train[\"Pclass\"]).mean())\n",
    "\n",
    "# How many people we have in each class?\n",
    "print(train[\"Pclass\"].value_counts())"
   ]
  },
  {
   "cell_type": "markdown",
   "id": "f73931a7",
   "metadata": {
    "papermill": {
     "duration": 0.039606,
     "end_time": "2022-02-06T18:04:24.668779",
     "exception": false,
     "start_time": "2022-02-06T18:04:24.629173",
     "status": "completed"
    },
    "tags": []
   },
   "source": [
    "As I expected, first class passengers have higher surviving rate. We will use this information in our training data.\n",
    "\n",
    "**Name**\n",
    "\n",
    "At a first glance, I thought that I would use the titles."
   ]
  },
  {
   "cell_type": "code",
   "execution_count": 5,
   "id": "8c966f6f",
   "metadata": {
    "execution": {
     "iopub.execute_input": "2022-02-06T18:04:24.749712Z",
     "iopub.status.busy": "2022-02-06T18:04:24.749018Z",
     "iopub.status.idle": "2022-02-06T18:04:24.758160Z",
     "shell.execute_reply": "2022-02-06T18:04:24.758619Z",
     "shell.execute_reply.started": "2022-02-06T17:50:08.752939Z"
    },
    "papermill": {
     "duration": 0.051826,
     "end_time": "2022-02-06T18:04:24.758817",
     "exception": false,
     "start_time": "2022-02-06T18:04:24.706991",
     "status": "completed"
    },
    "tags": []
   },
   "outputs": [
    {
     "data": {
      "text/html": [
       "<div>\n",
       "<style scoped>\n",
       "    .dataframe tbody tr th:only-of-type {\n",
       "        vertical-align: middle;\n",
       "    }\n",
       "\n",
       "    .dataframe tbody tr th {\n",
       "        vertical-align: top;\n",
       "    }\n",
       "\n",
       "    .dataframe thead th {\n",
       "        text-align: right;\n",
       "    }\n",
       "</style>\n",
       "<table border=\"1\" class=\"dataframe\">\n",
       "  <thead>\n",
       "    <tr style=\"text-align: right;\">\n",
       "      <th></th>\n",
       "      <th>Name</th>\n",
       "    </tr>\n",
       "  </thead>\n",
       "  <tbody>\n",
       "    <tr>\n",
       "      <th>0</th>\n",
       "      <td>Braund, Mr. Owen Harris</td>\n",
       "    </tr>\n",
       "    <tr>\n",
       "      <th>1</th>\n",
       "      <td>Cumings, Mrs. John Bradley (Florence Briggs Thayer)</td>\n",
       "    </tr>\n",
       "    <tr>\n",
       "      <th>2</th>\n",
       "      <td>Heikkinen, Miss. Laina</td>\n",
       "    </tr>\n",
       "    <tr>\n",
       "      <th>3</th>\n",
       "      <td>Futrelle, Mrs. Jacques Heath (Lily May Peel)</td>\n",
       "    </tr>\n",
       "    <tr>\n",
       "      <th>4</th>\n",
       "      <td>Allen, Mr. William Henry</td>\n",
       "    </tr>\n",
       "  </tbody>\n",
       "</table>\n",
       "</div>"
      ],
      "text/plain": [
       "                                                  Name\n",
       "0                              Braund, Mr. Owen Harris\n",
       "1  Cumings, Mrs. John Bradley (Florence Briggs Thayer)\n",
       "2                               Heikkinen, Miss. Laina\n",
       "3         Futrelle, Mrs. Jacques Heath (Lily May Peel)\n",
       "4                             Allen, Mr. William Henry"
      ]
     },
     "metadata": {},
     "output_type": "display_data"
    }
   ],
   "source": [
    "# Display first five rows of the Name column\n",
    "display(train[[\"Name\"]].head())"
   ]
  },
  {
   "cell_type": "markdown",
   "id": "bd7250be",
   "metadata": {
    "papermill": {
     "duration": 0.038191,
     "end_time": "2022-02-06T18:04:24.836470",
     "exception": false,
     "start_time": "2022-02-06T18:04:24.798279",
     "status": "completed"
    },
    "tags": []
   },
   "source": [
    "We can extract the titles from names."
   ]
  },
  {
   "cell_type": "code",
   "execution_count": 6,
   "id": "5e4a12c8",
   "metadata": {
    "execution": {
     "iopub.execute_input": "2022-02-06T18:04:24.912060Z",
     "iopub.status.busy": "2022-02-06T18:04:24.911469Z",
     "iopub.status.idle": "2022-02-06T18:04:24.926921Z",
     "shell.execute_reply": "2022-02-06T18:04:24.926122Z",
     "shell.execute_reply.started": "2022-02-06T17:50:08.764554Z"
    },
    "papermill": {
     "duration": 0.054162,
     "end_time": "2022-02-06T18:04:24.927129",
     "exception": false,
     "start_time": "2022-02-06T18:04:24.872967",
     "status": "completed"
    },
    "tags": []
   },
   "outputs": [
    {
     "name": "stdout",
     "output_type": "stream",
     "text": [
      "Mr              517\n",
      "Miss            182\n",
      "Mrs             125\n",
      "Master           40\n",
      "Dr                7\n",
      "Rev               6\n",
      "Mlle              2\n",
      "Major             2\n",
      "Col               2\n",
      "the Countess      1\n",
      "Capt              1\n",
      "Ms                1\n",
      "Sir               1\n",
      "Lady              1\n",
      "Mme               1\n",
      "Don               1\n",
      "Jonkheer          1\n",
      "Name: Title, dtype: int64\n"
     ]
    }
   ],
   "source": [
    "# Get titles\n",
    "train[\"Title\"] = train['Name'].str.split(', ', expand=True)[1].str.split('.', expand=True)[0]\n",
    "\n",
    "# Print title counts\n",
    "print(train[\"Title\"].value_counts())\n"
   ]
  },
  {
   "cell_type": "markdown",
   "id": "28f0f8bb",
   "metadata": {
    "papermill": {
     "duration": 0.037402,
     "end_time": "2022-02-06T18:04:25.004592",
     "exception": false,
     "start_time": "2022-02-06T18:04:24.967190",
     "status": "completed"
    },
    "tags": []
   },
   "source": [
    "Is there any relationship between titles and surviving"
   ]
  },
  {
   "cell_type": "code",
   "execution_count": 7,
   "id": "6727ca11",
   "metadata": {
    "execution": {
     "iopub.execute_input": "2022-02-06T18:04:25.089770Z",
     "iopub.status.busy": "2022-02-06T18:04:25.088720Z",
     "iopub.status.idle": "2022-02-06T18:04:25.094709Z",
     "shell.execute_reply": "2022-02-06T18:04:25.095199Z",
     "shell.execute_reply.started": "2022-02-06T17:50:08.78279Z"
    },
    "papermill": {
     "duration": 0.051044,
     "end_time": "2022-02-06T18:04:25.095372",
     "exception": false,
     "start_time": "2022-02-06T18:04:25.044328",
     "status": "completed"
    },
    "tags": []
   },
   "outputs": [
    {
     "name": "stdout",
     "output_type": "stream",
     "text": [
      "Title\n",
      "the Countess    1.000000\n",
      "Mlle            1.000000\n",
      "Sir             1.000000\n",
      "Ms              1.000000\n",
      "Lady            1.000000\n",
      "Mme             1.000000\n",
      "Mrs             0.792000\n",
      "Miss            0.697802\n",
      "Master          0.575000\n",
      "Col             0.500000\n",
      "Major           0.500000\n",
      "Dr              0.428571\n",
      "Mr              0.156673\n",
      "Jonkheer        0.000000\n",
      "Rev             0.000000\n",
      "Don             0.000000\n",
      "Capt            0.000000\n",
      "Name: Survived, dtype: float64\n"
     ]
    }
   ],
   "source": [
    "# Print the Surviving rates by title\n",
    "print(train[\"Survived\"].groupby(train[\"Title\"]).mean().sort_values(ascending=False))"
   ]
  },
  {
   "cell_type": "markdown",
   "id": "e50ab983",
   "metadata": {
    "papermill": {
     "duration": 0.036582,
     "end_time": "2022-02-06T18:04:25.168381",
     "exception": false,
     "start_time": "2022-02-06T18:04:25.131799",
     "status": "completed"
    },
    "tags": []
   },
   "source": [
    "Apparently, there is relationship between titles and surviving rate. In feature engineering part, I will group title by their surviving rates like following\n",
    "\n",
    "* higher = the Countess, Mlle, Lady, Ms , Sir, Mme, Mrs, Miss, Master\n",
    "* neutral = Major, Col, Dr\n",
    "* lower = Mr, Rev, Jonkheer, Don, Capt\n",
    "\n",
    "# Age"
   ]
  },
  {
   "cell_type": "code",
   "execution_count": 8,
   "id": "7c1103f5",
   "metadata": {
    "execution": {
     "iopub.execute_input": "2022-02-06T18:04:25.245531Z",
     "iopub.status.busy": "2022-02-06T18:04:25.244834Z",
     "iopub.status.idle": "2022-02-06T18:04:25.250205Z",
     "shell.execute_reply": "2022-02-06T18:04:25.250926Z",
     "shell.execute_reply.started": "2022-02-06T17:50:08.794231Z"
    },
    "papermill": {
     "duration": 0.045387,
     "end_time": "2022-02-06T18:04:25.251160",
     "exception": false,
     "start_time": "2022-02-06T18:04:25.205773",
     "status": "completed"
    },
    "tags": []
   },
   "outputs": [
    {
     "name": "stdout",
     "output_type": "stream",
     "text": [
      "177\n"
     ]
    }
   ],
   "source": [
    "# Print the missing values in Age column\n",
    "print(train[\"Age\"].isnull().sum())"
   ]
  },
  {
   "cell_type": "markdown",
   "id": "d962297a",
   "metadata": {
    "papermill": {
     "duration": 0.038931,
     "end_time": "2022-02-06T18:04:25.331925",
     "exception": false,
     "start_time": "2022-02-06T18:04:25.292994",
     "status": "completed"
    },
    "tags": []
   },
   "source": [
    "There are 177 missing values in Age column, we will impute them in Feature engineering part. \n",
    "Now, let's look at the distribution of ages by surviving"
   ]
  },
  {
   "cell_type": "code",
   "execution_count": 9,
   "id": "a8c07521",
   "metadata": {
    "execution": {
     "iopub.execute_input": "2022-02-06T18:04:25.414544Z",
     "iopub.status.busy": "2022-02-06T18:04:25.413896Z",
     "iopub.status.idle": "2022-02-06T18:04:25.684816Z",
     "shell.execute_reply": "2022-02-06T18:04:25.685296Z",
     "shell.execute_reply.started": "2022-02-06T17:50:08.807304Z"
    },
    "papermill": {
     "duration": 0.313717,
     "end_time": "2022-02-06T18:04:25.685478",
     "exception": false,
     "start_time": "2022-02-06T18:04:25.371761",
     "status": "completed"
    },
    "tags": []
   },
   "outputs": [
    {
     "name": "stderr",
     "output_type": "stream",
     "text": [
      "/opt/conda/lib/python3.7/site-packages/seaborn/distributions.py:2619: FutureWarning: `distplot` is a deprecated function and will be removed in a future version. Please adapt your code to use either `displot` (a figure-level function with similar flexibility) or `histplot` (an axes-level function for histograms).\n",
      "  warnings.warn(msg, FutureWarning)\n",
      "/opt/conda/lib/python3.7/site-packages/seaborn/distributions.py:2619: FutureWarning: `distplot` is a deprecated function and will be removed in a future version. Please adapt your code to use either `displot` (a figure-level function with similar flexibility) or `histplot` (an axes-level function for histograms).\n",
      "  warnings.warn(msg, FutureWarning)\n"
     ]
    },
    {
     "data": {
      "image/png": "[encoded data removed]",
      "text/plain": [
       "<Figure size 432x288 with 1 Axes>"
      ]
     },
     "metadata": {
      "needs_background": "light"
     },
     "output_type": "display_data"
    }
   ],
   "source": [
    "# Survived by age\n",
    "sns.distplot(train[train.Survived==1][\"Age\"],color=\"y\", bins=7, label=\"1\")\n",
    "\n",
    "# Death by age\n",
    "sns.distplot(train[train.Survived==0][\"Age\"], bins=7, label=\"0\")\n",
    "plt.legend()\n",
    "plt.title(\"Age Distribution\")\n",
    "plt.show()"
   ]
  },
  {
   "cell_type": "markdown",
   "id": "e3a40b99",
   "metadata": {
    "papermill": {
     "duration": 0.039213,
     "end_time": "2022-02-06T18:04:25.764565",
     "exception": false,
     "start_time": "2022-02-06T18:04:25.725352",
     "status": "completed"
    },
    "tags": []
   },
   "source": [
    "# **Sex**\n",
    "\n",
    "Is sex important for surviving?"
   ]
  },
  {
   "cell_type": "code",
   "execution_count": 10,
   "id": "ce53ab06",
   "metadata": {
    "execution": {
     "iopub.execute_input": "2022-02-06T18:04:25.846974Z",
     "iopub.status.busy": "2022-02-06T18:04:25.846347Z",
     "iopub.status.idle": "2022-02-06T18:04:26.024699Z",
     "shell.execute_reply": "2022-02-06T18:04:26.024242Z",
     "shell.execute_reply.started": "2022-02-06T17:50:09.038015Z"
    },
    "papermill": {
     "duration": 0.220278,
     "end_time": "2022-02-06T18:04:26.024835",
     "exception": false,
     "start_time": "2022-02-06T18:04:25.804557",
     "status": "completed"
    },
    "tags": []
   },
   "outputs": [
    {
     "data": {
      "image/png": "[encoded data removed]",
      "text/plain": [
       "<Figure size 432x288 with 1 Axes>"
      ]
     },
     "metadata": {
      "needs_background": "light"
     },
     "output_type": "display_data"
    },
    {
     "name": "stdout",
     "output_type": "stream",
     "text": [
      "Sex\n",
      "female    0.742038\n",
      "male      0.188908\n",
      "Name: Survived, dtype: float64\n",
      "male      577\n",
      "female    314\n",
      "Name: Sex, dtype: int64\n"
     ]
    }
   ],
   "source": [
    "# Visualize with a countplot\n",
    "sns.countplot(x=\"Sex\", hue=\"Survived\", data=train)\n",
    "plt.show()\n",
    "\n",
    "# Proportion of people survived for each class\n",
    "print(train[\"Survived\"].groupby(train[\"Sex\"]).mean())\n",
    "\n",
    "# How many people we have in each class?\n",
    "print(train[\"Sex\"].value_counts())"
   ]
  },
  {
   "cell_type": "markdown",
   "id": "60f88de4",
   "metadata": {
    "papermill": {
     "duration": 0.038908,
     "end_time": "2022-02-06T18:04:26.103159",
     "exception": false,
     "start_time": "2022-02-06T18:04:26.064251",
     "status": "completed"
    },
    "tags": []
   },
   "source": [
    "Obviously, there is a relationship between sex and surviving.\n",
    "\n",
    "* SibSp & Parch\n",
    "* SibSp = Sibling or Spouse number\n",
    "* Parch = Parent or Children number\n",
    "\n",
    "I decided to make a new feature called family size by summing the SibSp and Parch columns"
   ]
  },
  {
   "cell_type": "code",
   "execution_count": 11,
   "id": "24aafb5d",
   "metadata": {
    "execution": {
     "iopub.execute_input": "2022-02-06T18:04:26.185749Z",
     "iopub.status.busy": "2022-02-06T18:04:26.185143Z",
     "iopub.status.idle": "2022-02-06T18:04:26.198355Z",
     "shell.execute_reply": "2022-02-06T18:04:26.198779Z",
     "shell.execute_reply.started": "2022-02-06T17:50:09.181905Z"
    },
    "papermill": {
     "duration": 0.055876,
     "end_time": "2022-02-06T18:04:26.198987",
     "exception": false,
     "start_time": "2022-02-06T18:04:26.143111",
     "status": "completed"
    },
    "tags": []
   },
   "outputs": [
    {
     "name": "stdout",
     "output_type": "stream",
     "text": [
      "0    608\n",
      "1    209\n",
      "2     28\n",
      "4     18\n",
      "3     16\n",
      "8      7\n",
      "5      5\n",
      "Name: SibSp, dtype: int64\n",
      "0    678\n",
      "1    118\n",
      "2     80\n",
      "5      5\n",
      "3      5\n",
      "4      4\n",
      "6      1\n",
      "Name: Parch, dtype: int64\n",
      "0     537\n",
      "1     161\n",
      "2     102\n",
      "3      29\n",
      "5      22\n",
      "4      15\n",
      "6      12\n",
      "10      7\n",
      "7       6\n",
      "Name: family_size, dtype: int64\n",
      "family_size\n",
      "3     0.724138\n",
      "2     0.578431\n",
      "1     0.552795\n",
      "6     0.333333\n",
      "0     0.303538\n",
      "4     0.200000\n",
      "5     0.136364\n",
      "7     0.000000\n",
      "10    0.000000\n",
      "Name: Survived, dtype: float64\n"
     ]
    }
   ],
   "source": [
    "print(train[\"SibSp\"].value_counts())\n",
    "\n",
    "print(train[\"Parch\"].value_counts())\n",
    "\n",
    "train[\"family_size\"] = train[\"SibSp\"] + train[\"Parch\"]\n",
    "\n",
    "print(train[\"family_size\"].value_counts())\n",
    "\n",
    "# Proportion of people survived for each class\n",
    "print(train[\"Survived\"].groupby(train[\"family_size\"]).mean().sort_values(ascending=False))"
   ]
  },
  {
   "cell_type": "markdown",
   "id": "75c8ffa2",
   "metadata": {
    "papermill": {
     "duration": 0.038907,
     "end_time": "2022-02-06T18:04:26.278339",
     "exception": false,
     "start_time": "2022-02-06T18:04:26.239432",
     "status": "completed"
    },
    "tags": []
   },
   "source": [
    "Apparently, family size is important to survive. I am going to group them in feature engineering step like following\n",
    "\n",
    "* **big family** = if family size > 3\n",
    "* **small family** = if family size > 0 and family size < =3\n",
    "* **alone** = family size == 0\n",
    "\n",
    "Ticket\n",
    "\n",
    "At first, I thought that I would drop this column but after exploration I found useful features."
   ]
  },
  {
   "cell_type": "code",
   "execution_count": 12,
   "id": "8e7a672a",
   "metadata": {
    "execution": {
     "iopub.execute_input": "2022-02-06T18:04:26.367092Z",
     "iopub.status.busy": "2022-02-06T18:04:26.366277Z",
     "iopub.status.idle": "2022-02-06T18:04:26.369749Z",
     "shell.execute_reply": "2022-02-06T18:04:26.370468Z",
     "shell.execute_reply.started": "2022-02-06T17:50:09.196572Z"
    },
    "papermill": {
     "duration": 0.052009,
     "end_time": "2022-02-06T18:04:26.370693",
     "exception": false,
     "start_time": "2022-02-06T18:04:26.318684",
     "status": "completed"
    },
    "tags": []
   },
   "outputs": [
    {
     "name": "stdout",
     "output_type": "stream",
     "text": [
      "0            A/5 21171\n",
      "1             PC 17599\n",
      "2     STON/O2. 3101282\n",
      "3               113803\n",
      "4               373450\n",
      "5               330877\n",
      "6                17463\n",
      "7               349909\n",
      "8               347742\n",
      "9               237736\n",
      "10             PP 9549\n",
      "11              113783\n",
      "12           A/5. 2151\n",
      "13              347082\n",
      "14              350406\n",
      "Name: Ticket, dtype: object\n"
     ]
    }
   ],
   "source": [
    "# Print the first five rows of the Ticket column\n",
    "print(train[\"Ticket\"].head(15))"
   ]
  },
  {
   "cell_type": "markdown",
   "id": "a71d53f9",
   "metadata": {
    "papermill": {
     "duration": 0.040199,
     "end_time": "2022-02-06T18:04:26.455394",
     "exception": false,
     "start_time": "2022-02-06T18:04:26.415195",
     "status": "completed"
    },
    "tags": []
   },
   "source": [
    "I extracted only first letters of the tickets because I thought that they would indicate the ticket type.\n",
    "\n"
   ]
  },
  {
   "cell_type": "code",
   "execution_count": 13,
   "id": "dddebba2",
   "metadata": {
    "execution": {
     "iopub.execute_input": "2022-02-06T18:04:26.538362Z",
     "iopub.status.busy": "2022-02-06T18:04:26.537686Z",
     "iopub.status.idle": "2022-02-06T18:04:26.550120Z",
     "shell.execute_reply": "2022-02-06T18:04:26.550856Z",
     "shell.execute_reply.started": "2022-02-06T17:50:09.212504Z"
    },
    "papermill": {
     "duration": 0.055899,
     "end_time": "2022-02-06T18:04:26.551262",
     "exception": false,
     "start_time": "2022-02-06T18:04:26.495363",
     "status": "completed"
    },
    "tags": []
   },
   "outputs": [
    {
     "name": "stdout",
     "output_type": "stream",
     "text": [
      "3    301\n",
      "2    183\n",
      "1    146\n",
      "P     65\n",
      "S     65\n",
      "C     47\n",
      "A     29\n",
      "W     13\n",
      "4     10\n",
      "7      9\n",
      "F      7\n",
      "6      6\n",
      "L      4\n",
      "5      3\n",
      "8      2\n",
      "9      1\n",
      "Name: Ticket_first, dtype: int64\n",
      "Ticket_first\n",
      "9    1.000000\n",
      "P    0.646154\n",
      "1    0.630137\n",
      "F    0.571429\n",
      "2    0.464481\n",
      "C    0.340426\n",
      "S    0.323077\n",
      "L    0.250000\n",
      "3    0.239203\n",
      "4    0.200000\n",
      "6    0.166667\n",
      "W    0.153846\n",
      "7    0.111111\n",
      "A    0.068966\n",
      "5    0.000000\n",
      "8    0.000000\n",
      "Name: Survived, dtype: float64\n"
     ]
    }
   ],
   "source": [
    "# Get first letters of the tickets\n",
    "train[\"Ticket_first\"] = train[\"Ticket\"].apply(lambda x: str(x)[0])\n",
    "\n",
    "# Print value counts\n",
    "print(train[\"Ticket_first\"].value_counts())\n",
    "\n",
    "# Surviving rates of first letters\n",
    "print(train.groupby(\"Ticket_first\")[\"Survived\"].mean().sort_values(ascending=False))"
   ]
  },
  {
   "cell_type": "markdown",
   "id": "44c5dd24",
   "metadata": {
    "papermill": {
     "duration": 0.042271,
     "end_time": "2022-02-06T18:04:26.637294",
     "exception": false,
     "start_time": "2022-02-06T18:04:26.595023",
     "status": "completed"
    },
    "tags": []
   },
   "source": [
    "The first letters of the tickets are correlated with surviving rate somehow. I am going to group them like following\n",
    "\n",
    "* higher surviving rate = F, 1, P , 9\n",
    "* neutral = S, C, 2\n",
    "* lower surviving rate = else\n",
    "\n",
    "Fare\n",
    "We can plot a histogram to see Fare distribution"
   ]
  },
  {
   "cell_type": "code",
   "execution_count": 14,
   "id": "5e907aa8",
   "metadata": {
    "execution": {
     "iopub.execute_input": "2022-02-06T18:04:26.721711Z",
     "iopub.status.busy": "2022-02-06T18:04:26.721037Z",
     "iopub.status.idle": "2022-02-06T18:04:27.027068Z",
     "shell.execute_reply": "2022-02-06T18:04:27.027793Z",
     "shell.execute_reply.started": "2022-02-06T17:50:09.235308Z"
    },
    "papermill": {
     "duration": 0.350828,
     "end_time": "2022-02-06T18:04:27.028046",
     "exception": false,
     "start_time": "2022-02-06T18:04:26.677218",
     "status": "completed"
    },
    "tags": []
   },
   "outputs": [
    {
     "name": "stdout",
     "output_type": "stream",
     "text": [
      "(-0.512, 170.776]     871\n",
      "(170.776, 341.553]     17\n",
      "(341.553, 512.329]      3\n",
      "Name: Fare, dtype: int64\n"
     ]
    },
    {
     "name": "stderr",
     "output_type": "stream",
     "text": [
      "/opt/conda/lib/python3.7/site-packages/seaborn/distributions.py:2619: FutureWarning: `distplot` is a deprecated function and will be removed in a future version. Please adapt your code to use either `displot` (a figure-level function with similar flexibility) or `histplot` (an axes-level function for histograms).\n",
      "  warnings.warn(msg, FutureWarning)\n"
     ]
    },
    {
     "data": {
      "image/png": "[encoded data removed]",
      "text/plain": [
       "<Figure size 432x288 with 1 Axes>"
      ]
     },
     "metadata": {
      "needs_background": "light"
     },
     "output_type": "display_data"
    },
    {
     "name": "stdout",
     "output_type": "stream",
     "text": [
      "Fare\n",
      "(-0.512, 170.776]     0.376579\n",
      "(170.776, 341.553]    0.647059\n",
      "(341.553, 512.329]    1.000000\n",
      "Name: Survived, dtype: float64\n"
     ]
    }
   ],
   "source": [
    "# Print 3 bins of Fare column\n",
    "print(pd.cut(train['Fare'], 3).value_counts())\n",
    "\n",
    "# Plot the histogram\n",
    "sns.distplot(train[\"Fare\"])\n",
    "plt.show()\n",
    "\n",
    "# Print binned Fares by surviving rate\n",
    "print(train['Survived'].groupby(pd.cut(train['Fare'], 3)).mean())"
   ]
  },
  {
   "cell_type": "markdown",
   "id": "8a5c9587",
   "metadata": {
    "papermill": {
     "duration": 0.042876,
     "end_time": "2022-02-06T18:04:27.116086",
     "exception": false,
     "start_time": "2022-02-06T18:04:27.073210",
     "status": "completed"
    },
    "tags": []
   },
   "source": [
    "There is also a correlation between ticket fares and surviving\n",
    "\n",
    "Cabin\n",
    "\n",
    "![https://raw.githubusercontent.com/Bhasfe/titanic/ae0e2f00f9945227a26005447626f3f6a703c60b/images/titanic.png](http://)\n",
    "\n",
    "I found this figure wikiwand.com. The figure shows us the most affacted parts of the Titanic and the Cabin locations. Although there are many missing value in Cabin column, I decided to extract the Cabin information to try whether it works or not."
   ]
  },
  {
   "cell_type": "code",
   "execution_count": 15,
   "id": "0d9b376b",
   "metadata": {
    "execution": {
     "iopub.execute_input": "2022-02-06T18:04:27.208845Z",
     "iopub.status.busy": "2022-02-06T18:04:27.208238Z",
     "iopub.status.idle": "2022-02-06T18:04:27.217405Z",
     "shell.execute_reply": "2022-02-06T18:04:27.217832Z",
     "shell.execute_reply.started": "2022-02-06T17:50:09.529233Z"
    },
    "papermill": {
     "duration": 0.057452,
     "end_time": "2022-02-06T18:04:27.218064",
     "exception": false,
     "start_time": "2022-02-06T18:04:27.160612",
     "status": "completed"
    },
    "tags": []
   },
   "outputs": [
    {
     "name": "stdout",
     "output_type": "stream",
     "text": [
      "[nan 'C85' 'C123' 'E46' 'G6' 'C103' 'D56' 'A6' 'C23 C25 C27' 'B78' 'D33'\n",
      " 'B30' 'C52' 'B28' 'C83' 'F33' 'F G73' 'E31' 'A5' 'D10 D12' 'D26' 'C110'\n",
      " 'B58 B60' 'E101' 'F E69' 'D47' 'B86' 'F2' 'C2' 'E33' 'B19' 'A7' 'C49'\n",
      " 'F4' 'A32' 'B4' 'B80' 'A31' 'D36' 'D15' 'C93' 'C78' 'D35' 'C87' 'B77'\n",
      " 'E67' 'B94' 'C125' 'C99' 'C118' 'D7' 'A19' 'B49' 'D' 'C22 C26' 'C106'\n",
      " 'C65' 'E36' 'C54' 'B57 B59 B63 B66' 'C7' 'E34' 'C32' 'B18' 'C124' 'C91'\n",
      " 'E40' 'T' 'C128' 'D37' 'B35' 'E50' 'C82' 'B96 B98' 'E10' 'E44' 'A34'\n",
      " 'C104' 'C111' 'C92' 'E38' 'D21' 'E12' 'E63' 'A14' 'B37' 'C30' 'D20' 'B79'\n",
      " 'E25' 'D46' 'B73' 'C95' 'B38' 'B39' 'B22' 'C86' 'C70' 'A16' 'C101' 'C68'\n",
      " 'A10' 'E68' 'B41' 'A20' 'D19' 'D50' 'D9' 'A23' 'B50' 'A26' 'D48' 'E58'\n",
      " 'C126' 'B71' 'B51 B53 B55' 'D49' 'B5' 'B20' 'F G63' 'C62 C64' 'E24' 'C90'\n",
      " 'C45' 'E8' 'B101' 'D45' 'C46' 'D30' 'E121' 'D11' 'E77' 'F38' 'B3' 'D6'\n",
      " 'B82 B84' 'D17' 'A36' 'B102' 'B69' 'E49' 'C47' 'D28' 'E17' 'A24' 'C50'\n",
      " 'B42' 'C148']\n",
      "n    687\n",
      "C     59\n",
      "B     47\n",
      "D     33\n",
      "E     32\n",
      "A     15\n",
      "F     13\n",
      "G      4\n",
      "T      1\n",
      "Name: Cabin_first, dtype: int64\n",
      "Cabin_first\n",
      "D    0.757576\n",
      "E    0.750000\n",
      "B    0.744681\n",
      "F    0.615385\n",
      "C    0.593220\n",
      "G    0.500000\n",
      "A    0.466667\n",
      "n    0.299854\n",
      "T    0.000000\n",
      "Name: Survived, dtype: float64\n"
     ]
    }
   ],
   "source": [
    "# Print the unique values in the Cabin column\n",
    "print(train[\"Cabin\"].unique())\n",
    "\n",
    "# Get the first letters of Cabins\n",
    "train[\"Cabin_first\"] = train[\"Cabin\"].apply(lambda x: str(x)[0])\n",
    "\n",
    "# Print value counts of first letters\n",
    "print(train[\"Cabin_first\"].value_counts())\n",
    "\n",
    "# Surviving rate of Cabin first letters\n",
    "print(train.groupby(\"Cabin_first\")[\"Survived\"].mean().sort_values(ascending=False))"
   ]
  },
  {
   "cell_type": "markdown",
   "id": "1ae1e497",
   "metadata": {
    "papermill": {
     "duration": 0.042141,
     "end_time": "2022-02-06T18:04:27.303146",
     "exception": false,
     "start_time": "2022-02-06T18:04:27.261005",
     "status": "completed"
    },
    "tags": []
   },
   "source": [
    "According to surviving rates. I will group the Cabins like following\n",
    "\n",
    "* higher surviving rate = D, E, B, F, C\n",
    "* neutral = G, A\n",
    "* lower surviving rate else\n",
    "\n",
    "**Embarked**\n",
    "\n",
    "Embarked is a categorical features which shows us the port of embarkation.\n",
    "\n",
    "* C = Cherbourg\n",
    "* Q = Queenstown\n",
    "* S = Southampton"
   ]
  },
  {
   "cell_type": "code",
   "execution_count": 16,
   "id": "b352f19d",
   "metadata": {
    "execution": {
     "iopub.execute_input": "2022-02-06T18:04:27.388648Z",
     "iopub.status.busy": "2022-02-06T18:04:27.387986Z",
     "iopub.status.idle": "2022-02-06T18:04:27.583708Z",
     "shell.execute_reply": "2022-02-06T18:04:27.584467Z",
     "shell.execute_reply.started": "2022-02-06T17:50:09.542476Z"
    },
    "papermill": {
     "duration": 0.240532,
     "end_time": "2022-02-06T18:04:27.584716",
     "exception": false,
     "start_time": "2022-02-06T18:04:27.344184",
     "status": "completed"
    },
    "tags": []
   },
   "outputs": [
    {
     "data": {
      "image/png": "[encoded data removed]",
      "text/plain": [
       "<Figure size 432x288 with 1 Axes>"
      ]
     },
     "metadata": {
      "needs_background": "light"
     },
     "output_type": "display_data"
    },
    {
     "name": "stdout",
     "output_type": "stream",
     "text": [
      "S    644\n",
      "C    168\n",
      "Q     77\n",
      "Name: Embarked, dtype: int64\n",
      "Embarked\n",
      "C    0.553571\n",
      "Q    0.389610\n",
      "S    0.336957\n",
      "Name: Survived, dtype: float64\n"
     ]
    }
   ],
   "source": [
    "# Make a countplot\n",
    "sns.countplot(x=\"Embarked\", hue=\"Survived\", data=train)\n",
    "plt.show()\n",
    "\n",
    "# Print the value counts\n",
    "print(train[\"Embarked\"].value_counts())\n",
    "\n",
    "# Surviving rates of Embarked\n",
    "print(train[\"Survived\"].groupby(train[\"Embarked\"]).mean())"
   ]
  },
  {
   "cell_type": "markdown",
   "id": "4fdb5cff",
   "metadata": {
    "papermill": {
     "duration": 0.045284,
     "end_time": "2022-02-06T18:04:27.673713",
     "exception": false,
     "start_time": "2022-02-06T18:04:27.628429",
     "status": "completed"
    },
    "tags": []
   },
   "source": [
    "No doubt, C has the higher surviving rate. \n",
    "We will definetely use this information.\n",
    "\n",
    "# 2. Feature Engineering\n",
    "We have learned a lot from exploratory data analysis. Now we can start feature engineering. Firstly, let's load the train and the test sets."
   ]
  },
  {
   "cell_type": "code",
   "execution_count": 17,
   "id": "b77265c0",
   "metadata": {
    "execution": {
     "iopub.execute_input": "2022-02-06T18:04:27.762735Z",
     "iopub.status.busy": "2022-02-06T18:04:27.761545Z",
     "iopub.status.idle": "2022-02-06T18:04:27.789907Z",
     "shell.execute_reply": "2022-02-06T18:04:27.790667Z",
     "shell.execute_reply.started": "2022-02-06T17:50:09.708259Z"
    },
    "papermill": {
     "duration": 0.074556,
     "end_time": "2022-02-06T18:04:27.791033",
     "exception": false,
     "start_time": "2022-02-06T18:04:27.716477",
     "status": "completed"
    },
    "tags": []
   },
   "outputs": [
    {
     "name": "stdout",
     "output_type": "stream",
     "text": [
      "<class 'pandas.core.frame.DataFrame'>\n",
      "RangeIndex: 418 entries, 0 to 417\n",
      "Data columns (total 11 columns):\n",
      " #   Column       Non-Null Count  Dtype  \n",
      "---  ------       --------------  -----  \n",
      " 0   PassengerId  418 non-null    int64  \n",
      " 1   Pclass       418 non-null    int64  \n",
      " 2   Name         418 non-null    object \n",
      " 3   Sex          418 non-null    object \n",
      " 4   Age          332 non-null    float64\n",
      " 5   SibSp        418 non-null    int64  \n",
      " 6   Parch        418 non-null    int64  \n",
      " 7   Ticket       418 non-null    object \n",
      " 8   Fare         417 non-null    float64\n",
      " 9   Cabin        91 non-null     object \n",
      " 10  Embarked     418 non-null    object \n",
      "dtypes: float64(2), int64(4), object(5)\n",
      "memory usage: 36.0+ KB\n",
      "None\n"
     ]
    }
   ],
   "source": [
    "# Load the train and the test datasets\n",
    "train = pd.read_csv(\"../input/titanic/train.csv\")\n",
    "test = pd.read_csv(\"../input/titanic/test.csv\")\n",
    "\n",
    "print(test.info())"
   ]
  },
  {
   "cell_type": "markdown",
   "id": "eef408f2",
   "metadata": {
    "papermill": {
     "duration": 0.044819,
     "end_time": "2022-02-06T18:04:27.879740",
     "exception": false,
     "start_time": "2022-02-06T18:04:27.834921",
     "status": "completed"
    },
    "tags": []
   },
   "source": [
    "There is one missing value in the Fare column of the test set. I imputed it by using mean."
   ]
  },
  {
   "cell_type": "code",
   "execution_count": 18,
   "id": "6bcf173e",
   "metadata": {
    "execution": {
     "iopub.execute_input": "2022-02-06T18:04:27.970031Z",
     "iopub.status.busy": "2022-02-06T18:04:27.969106Z",
     "iopub.status.idle": "2022-02-06T18:04:27.971490Z",
     "shell.execute_reply": "2022-02-06T18:04:27.971958Z",
     "shell.execute_reply.started": "2022-02-06T17:50:09.735106Z"
    },
    "papermill": {
     "duration": 0.050161,
     "end_time": "2022-02-06T18:04:27.972128",
     "exception": false,
     "start_time": "2022-02-06T18:04:27.921967",
     "status": "completed"
    },
    "tags": []
   },
   "outputs": [],
   "source": [
    "# Put the mean into the missing value\n",
    "test['Fare'].fillna(train['Fare'].mean(), inplace = True)"
   ]
  },
  {
   "cell_type": "markdown",
   "id": "b60bd87f",
   "metadata": {
    "papermill": {
     "duration": 0.044544,
     "end_time": "2022-02-06T18:04:28.060843",
     "exception": false,
     "start_time": "2022-02-06T18:04:28.016299",
     "status": "completed"
    },
    "tags": []
   },
   "source": [
    "I have used two types of Imputer from sklearn. Iterative imputer for age imputation, and Simple imputer ( with most frequent strategy) for Embarked"
   ]
  },
  {
   "cell_type": "code",
   "execution_count": 19,
   "id": "57be011f",
   "metadata": {
    "execution": {
     "iopub.execute_input": "2022-02-06T18:04:28.152296Z",
     "iopub.status.busy": "2022-02-06T18:04:28.151317Z",
     "iopub.status.idle": "2022-02-06T18:04:28.504100Z",
     "shell.execute_reply": "2022-02-06T18:04:28.503569Z",
     "shell.execute_reply.started": "2022-02-06T17:50:09.741885Z"
    },
    "papermill": {
     "duration": 0.399163,
     "end_time": "2022-02-06T18:04:28.504233",
     "exception": false,
     "start_time": "2022-02-06T18:04:28.105070",
     "status": "completed"
    },
    "tags": []
   },
   "outputs": [],
   "source": [
    "from sklearn.impute import SimpleImputer\n",
    "from sklearn.experimental import enable_iterative_imputer\n",
    "from sklearn.impute import IterativeImputer\n",
    "\n",
    "# Imputers\n",
    "imp_embarked = SimpleImputer(missing_values=np.nan, strategy=\"most_frequent\")\n",
    "imp_age = IterativeImputer(max_iter=100, random_state=34, n_nearest_features=2)\n",
    "\n",
    "# Impute Embarked\n",
    "train[\"Embarked\"] = imp_embarked.fit_transform(train[[\"Embarked\"]])\n",
    "test[\"Embarked\"] = imp_embarked.transform(test[[\"Embarked\"]])\n",
    "\n",
    "# Impute Age\n",
    "train[\"Age\"] = np.round(imp_age.fit_transform(train[[\"Age\"]]))\n",
    "test[\"Age\"] = np.round(imp_age.transform(test[[\"Age\"]]))"
   ]
  },
  {
   "cell_type": "markdown",
   "id": "12e0d987",
   "metadata": {
    "papermill": {
     "duration": 0.042009,
     "end_time": "2022-02-06T18:04:28.588806",
     "exception": false,
     "start_time": "2022-02-06T18:04:28.546797",
     "status": "completed"
    },
    "tags": []
   },
   "source": [
    "We also encode the sex column."
   ]
  },
  {
   "cell_type": "code",
   "execution_count": 20,
   "id": "d0d27ace",
   "metadata": {
    "execution": {
     "iopub.execute_input": "2022-02-06T18:04:28.682730Z",
     "iopub.status.busy": "2022-02-06T18:04:28.682008Z",
     "iopub.status.idle": "2022-02-06T18:04:28.685473Z",
     "shell.execute_reply": "2022-02-06T18:04:28.684842Z",
     "shell.execute_reply.started": "2022-02-06T17:50:09.895394Z"
    },
    "papermill": {
     "duration": 0.054403,
     "end_time": "2022-02-06T18:04:28.685617",
     "exception": false,
     "start_time": "2022-02-06T18:04:28.631214",
     "status": "completed"
    },
    "tags": []
   },
   "outputs": [],
   "source": [
    "from sklearn.preprocessing import LabelEncoder\n",
    "\n",
    "# Initialize a Label Encoder\n",
    "le = LabelEncoder()\n",
    "\n",
    "# Encode Sex\n",
    "train[\"Sex\"] = le.fit_transform(train[[\"Sex\"]].values.ravel())\n",
    "test[\"Sex\"] = le.fit_transform(test[[\"Sex\"]].values.ravel())"
   ]
  },
  {
   "cell_type": "markdown",
   "id": "a7c2326e",
   "metadata": {
    "papermill": {
     "duration": 0.042228,
     "end_time": "2022-02-06T18:04:28.770222",
     "exception": false,
     "start_time": "2022-02-06T18:04:28.727994",
     "status": "completed"
    },
    "tags": []
   },
   "source": [
    "In EDA, we decided to use family size feature"
   ]
  },
  {
   "cell_type": "code",
   "execution_count": 21,
   "id": "18cada72",
   "metadata": {
    "execution": {
     "iopub.execute_input": "2022-02-06T18:04:28.863705Z",
     "iopub.status.busy": "2022-02-06T18:04:28.859744Z",
     "iopub.status.idle": "2022-02-06T18:04:28.866592Z",
     "shell.execute_reply": "2022-02-06T18:04:28.866119Z",
     "shell.execute_reply.started": "2022-02-06T17:50:09.9054Z"
    },
    "papermill": {
     "duration": 0.054092,
     "end_time": "2022-02-06T18:04:28.866731",
     "exception": false,
     "start_time": "2022-02-06T18:04:28.812639",
     "status": "completed"
    },
    "tags": []
   },
   "outputs": [],
   "source": [
    "# Family Size\n",
    "train[\"Fsize\"] = train[\"SibSp\"] + train[\"Parch\"]\n",
    "test[\"Fsize\"] = test[\"SibSp\"] + test[\"Parch\"]"
   ]
  },
  {
   "cell_type": "markdown",
   "id": "6a471fb9",
   "metadata": {
    "papermill": {
     "duration": 0.041729,
     "end_time": "2022-02-06T18:04:28.950710",
     "exception": false,
     "start_time": "2022-02-06T18:04:28.908981",
     "status": "completed"
    },
    "tags": []
   },
   "source": [
    "Ticket first letters and Cabin first letters are also needed"
   ]
  },
  {
   "cell_type": "code",
   "execution_count": 22,
   "id": "8cbad566",
   "metadata": {
    "execution": {
     "iopub.execute_input": "2022-02-06T18:04:29.045456Z",
     "iopub.status.busy": "2022-02-06T18:04:29.044762Z",
     "iopub.status.idle": "2022-02-06T18:04:29.046426Z",
     "shell.execute_reply": "2022-02-06T18:04:29.046826Z",
     "shell.execute_reply.started": "2022-02-06T17:50:09.924701Z"
    },
    "papermill": {
     "duration": 0.054205,
     "end_time": "2022-02-06T18:04:29.047020",
     "exception": false,
     "start_time": "2022-02-06T18:04:28.992815",
     "status": "completed"
    },
    "tags": []
   },
   "outputs": [],
   "source": [
    "# Ticket first letters\n",
    "train[\"Ticket\"] = train[\"Ticket\"].apply(lambda x: str(x)[0])\n",
    "test[\"Ticket\"] = test[\"Ticket\"].apply(lambda x: str(x)[0])\n",
    "\n",
    "# Cabin first letters\n",
    "train[\"Cabin\"] = train[\"Cabin\"].apply(lambda x: str(x)[0])\n",
    "test[\"Cabin\"] = test[\"Cabin\"].apply(lambda x: str(x)[0])"
   ]
  },
  {
   "cell_type": "markdown",
   "id": "f098d7d9",
   "metadata": {
    "papermill": {
     "duration": 0.04287,
     "end_time": "2022-02-06T18:04:29.132126",
     "exception": false,
     "start_time": "2022-02-06T18:04:29.089256",
     "status": "completed"
    },
    "tags": []
   },
   "source": [
    "Extract the titles from the names"
   ]
  },
  {
   "cell_type": "code",
   "execution_count": 23,
   "id": "1cebaa2b",
   "metadata": {
    "execution": {
     "iopub.execute_input": "2022-02-06T18:04:29.220705Z",
     "iopub.status.busy": "2022-02-06T18:04:29.220093Z",
     "iopub.status.idle": "2022-02-06T18:04:29.232614Z",
     "shell.execute_reply": "2022-02-06T18:04:29.233062Z",
     "shell.execute_reply.started": "2022-02-06T17:50:09.941852Z"
    },
    "papermill": {
     "duration": 0.058845,
     "end_time": "2022-02-06T18:04:29.233243",
     "exception": false,
     "start_time": "2022-02-06T18:04:29.174398",
     "status": "completed"
    },
    "tags": []
   },
   "outputs": [],
   "source": [
    "# Titles\n",
    "train[\"Title\"] = train['Name'].str.split(', ', expand=True)[1].str.split('.', expand=True)[0]\n",
    "test[\"Title\"] = test['Name'].str.split(', ', expand=True)[1].str.split('.', expand=True)[0]"
   ]
  },
  {
   "cell_type": "markdown",
   "id": "fb477158",
   "metadata": {
    "papermill": {
     "duration": 0.042381,
     "end_time": "2022-02-06T18:04:29.318174",
     "exception": false,
     "start_time": "2022-02-06T18:04:29.275793",
     "status": "completed"
    },
    "tags": []
   },
   "source": [
    "Now, we need some helper functions to group our categories"
   ]
  },
  {
   "cell_type": "code",
   "execution_count": 24,
   "id": "341952fa",
   "metadata": {
    "execution": {
     "iopub.execute_input": "2022-02-06T18:04:29.406042Z",
     "iopub.status.busy": "2022-02-06T18:04:29.405344Z",
     "iopub.status.idle": "2022-02-06T18:04:29.411883Z",
     "shell.execute_reply": "2022-02-06T18:04:29.412369Z",
     "shell.execute_reply.started": "2022-02-06T17:50:09.961685Z"
    },
    "papermill": {
     "duration": 0.052016,
     "end_time": "2022-02-06T18:04:29.412554",
     "exception": false,
     "start_time": "2022-02-06T18:04:29.360538",
     "status": "completed"
    },
    "tags": []
   },
   "outputs": [],
   "source": [
    "# Group the family_size column\n",
    "def assign_passenger_label(family_size):\n",
    "    if family_size == 0:\n",
    "        return \"Alone\"\n",
    "    elif family_size <=3:\n",
    "        return \"Small_family\"\n",
    "    else:\n",
    "        return \"Big_family\"\n",
    "    \n",
    "# Group the Ticket column\n",
    "def assign_label_ticket(first):\n",
    "    if first in [\"F\", \"1\", \"P\", \"9\"]:\n",
    "        return \"Ticket_high\"\n",
    "    elif first in [\"S\", \"C\", \"2\"]:\n",
    "        return \"Ticket_middle\"\n",
    "    else:\n",
    "        return \"Ticket_low\"\n",
    "    \n",
    "# Group the Title column    \n",
    "def assign_label_title(title):\n",
    "    if title in [\"the Countess\", \"Mlle\", \"Lady\", \"Ms\", \"Sir\", \"Mme\", \"Mrs\", \"Miss\", \"Master\"]:\n",
    "        return \"Title_high\"\n",
    "    elif title in [\"Major\", \"Col\", \"Dr\"]:\n",
    "        return \"Title_middle\"\n",
    "    else:\n",
    "        return \"Title_low\"\n",
    "    \n",
    "# Group the Cabin column  \n",
    "def assign_label_cabin(cabin):\n",
    "    if cabin in [\"D\", \"E\", \"B\", \"F\", \"C\"]:\n",
    "        return \"Cabin_high\"\n",
    "    elif cabin in [\"G\", \"A\"]:\n",
    "        return \"Cabin_middle\"\n",
    "    else:\n",
    "        return \"Cabin_low\""
   ]
  },
  {
   "cell_type": "markdown",
   "id": "872aebc8",
   "metadata": {
    "papermill": {
     "duration": 0.043167,
     "end_time": "2022-02-06T18:04:29.499071",
     "exception": false,
     "start_time": "2022-02-06T18:04:29.455904",
     "status": "completed"
    },
    "tags": []
   },
   "source": [
    "Apply the functions."
   ]
  },
  {
   "cell_type": "code",
   "execution_count": 25,
   "id": "36edfc5d",
   "metadata": {
    "execution": {
     "iopub.execute_input": "2022-02-06T18:04:29.587365Z",
     "iopub.status.busy": "2022-02-06T18:04:29.586537Z",
     "iopub.status.idle": "2022-02-06T18:04:29.596830Z",
     "shell.execute_reply": "2022-02-06T18:04:29.597446Z",
     "shell.execute_reply.started": "2022-02-06T17:50:09.971784Z"
    },
    "papermill": {
     "duration": 0.056161,
     "end_time": "2022-02-06T18:04:29.597619",
     "exception": false,
     "start_time": "2022-02-06T18:04:29.541458",
     "status": "completed"
    },
    "tags": []
   },
   "outputs": [],
   "source": [
    "# Family size\n",
    "train[\"Fsize\"] = train[\"Fsize\"].apply(assign_passenger_label)\n",
    "test[\"Fsize\"] = test[\"Fsize\"].apply(assign_passenger_label)\n",
    "\n",
    "# Ticket\n",
    "train[\"Ticket\"] = train[\"Ticket\"].apply(assign_label_ticket)\n",
    "test[\"Ticket\"] = test[\"Ticket\"].apply(assign_label_ticket)\n",
    "\n",
    "# Title\n",
    "train[\"Title\"] = train[\"Title\"].apply(assign_label_title)\n",
    "test[\"Title\"] = test[\"Title\"].apply(assign_label_title)\n",
    "\n",
    "# Cabin\n",
    "train[\"Cabin\"] = train[\"Cabin\"].apply(assign_label_cabin)\n",
    "test[\"Cabin\"] = test[\"Cabin\"].apply(assign_label_cabin)"
   ]
  },
  {
   "cell_type": "markdown",
   "id": "0a726ce9",
   "metadata": {
    "papermill": {
     "duration": 0.041796,
     "end_time": "2022-02-06T18:04:29.681846",
     "exception": false,
     "start_time": "2022-02-06T18:04:29.640050",
     "status": "completed"
    },
    "tags": []
   },
   "source": [
    "It's time to use One Hot Encoding"
   ]
  },
  {
   "cell_type": "code",
   "execution_count": 26,
   "id": "27fb3778",
   "metadata": {
    "execution": {
     "iopub.execute_input": "2022-02-06T18:04:29.774718Z",
     "iopub.status.busy": "2022-02-06T18:04:29.774130Z",
     "iopub.status.idle": "2022-02-06T18:04:29.789651Z",
     "shell.execute_reply": "2022-02-06T18:04:29.790212Z",
     "shell.execute_reply.started": "2022-02-06T17:50:09.996403Z"
    },
    "papermill": {
     "duration": 0.064769,
     "end_time": "2022-02-06T18:04:29.790393",
     "exception": false,
     "start_time": "2022-02-06T18:04:29.725624",
     "status": "completed"
    },
    "tags": []
   },
   "outputs": [],
   "source": [
    "train = pd.get_dummies(columns=[\"Pclass\", \"Embarked\", \"Ticket\", \"Cabin\",\"Title\", \"Fsize\"], data=train, drop_first=True)\n",
    "test = pd.get_dummies(columns=[\"Pclass\", \"Embarked\", \"Ticket\", \"Cabin\", \"Title\", \"Fsize\"], data=test, drop_first=True)"
   ]
  },
  {
   "cell_type": "markdown",
   "id": "00d06780",
   "metadata": {
    "papermill": {
     "duration": 0.042166,
     "end_time": "2022-02-06T18:04:29.874787",
     "exception": false,
     "start_time": "2022-02-06T18:04:29.832621",
     "status": "completed"
    },
    "tags": []
   },
   "source": [
    "Drop the colums that are no longer needed"
   ]
  },
  {
   "cell_type": "code",
   "execution_count": 27,
   "id": "48f0c5e7",
   "metadata": {
    "execution": {
     "iopub.execute_input": "2022-02-06T18:04:29.962568Z",
     "iopub.status.busy": "2022-02-06T18:04:29.961968Z",
     "iopub.status.idle": "2022-02-06T18:04:29.969124Z",
     "shell.execute_reply": "2022-02-06T18:04:29.969602Z",
     "shell.execute_reply.started": "2022-02-06T17:50:10.021019Z"
    },
    "papermill": {
     "duration": 0.052524,
     "end_time": "2022-02-06T18:04:29.969776",
     "exception": false,
     "start_time": "2022-02-06T18:04:29.917252",
     "status": "completed"
    },
    "tags": []
   },
   "outputs": [],
   "source": [
    "target = train[\"Survived\"]\n",
    "train.drop([\"Survived\", \"SibSp\", \"Parch\", \"Name\", \"PassengerId\"], axis=1, inplace=True)\n",
    "test.drop([\"SibSp\", \"Parch\", \"Name\",\"PassengerId\"], axis=1, inplace=True)"
   ]
  },
  {
   "cell_type": "markdown",
   "id": "7d648244",
   "metadata": {
    "papermill": {
     "duration": 0.043954,
     "end_time": "2022-02-06T18:04:30.056540",
     "exception": false,
     "start_time": "2022-02-06T18:04:30.012586",
     "status": "completed"
    },
    "tags": []
   },
   "source": [
    "Final look"
   ]
  },
  {
   "cell_type": "code",
   "execution_count": 28,
   "id": "bd63c781",
   "metadata": {
    "execution": {
     "iopub.execute_input": "2022-02-06T18:04:30.145269Z",
     "iopub.status.busy": "2022-02-06T18:04:30.144608Z",
     "iopub.status.idle": "2022-02-06T18:04:30.181386Z",
     "shell.execute_reply": "2022-02-06T18:04:30.181916Z",
     "shell.execute_reply.started": "2022-02-06T17:50:10.034721Z"
    },
    "papermill": {
     "duration": 0.082331,
     "end_time": "2022-02-06T18:04:30.182097",
     "exception": false,
     "start_time": "2022-02-06T18:04:30.099766",
     "status": "completed"
    },
    "tags": []
   },
   "outputs": [
    {
     "data": {
      "text/html": [
       "<div>\n",
       "<style scoped>\n",
       "    .dataframe tbody tr th:only-of-type {\n",
       "        vertical-align: middle;\n",
       "    }\n",
       "\n",
       "    .dataframe tbody tr th {\n",
       "        vertical-align: top;\n",
       "    }\n",
       "\n",
       "    .dataframe thead th {\n",
       "        text-align: right;\n",
       "    }\n",
       "</style>\n",
       "<table border=\"1\" class=\"dataframe\">\n",
       "  <thead>\n",
       "    <tr style=\"text-align: right;\">\n",
       "      <th></th>\n",
       "      <th>Sex</th>\n",
       "      <th>Age</th>\n",
       "      <th>Fare</th>\n",
       "      <th>Pclass_2</th>\n",
       "      <th>Pclass_3</th>\n",
       "      <th>Embarked_Q</th>\n",
       "      <th>Embarked_S</th>\n",
       "      <th>Ticket_Ticket_low</th>\n",
       "      <th>Ticket_Ticket_middle</th>\n",
       "      <th>Cabin_Cabin_low</th>\n",
       "      <th>Cabin_Cabin_middle</th>\n",
       "      <th>Title_Title_low</th>\n",
       "      <th>Title_Title_middle</th>\n",
       "      <th>Fsize_Big_family</th>\n",
       "      <th>Fsize_Small_family</th>\n",
       "    </tr>\n",
       "  </thead>\n",
       "  <tbody>\n",
       "    <tr>\n",
       "      <th>0</th>\n",
       "      <td>1</td>\n",
       "      <td>22.0</td>\n",
       "      <td>7.2500</td>\n",
       "      <td>0</td>\n",
       "      <td>1</td>\n",
       "      <td>0</td>\n",
       "      <td>1</td>\n",
       "      <td>1</td>\n",
       "      <td>0</td>\n",
       "      <td>1</td>\n",
       "      <td>0</td>\n",
       "      <td>1</td>\n",
       "      <td>0</td>\n",
       "      <td>0</td>\n",
       "      <td>1</td>\n",
       "    </tr>\n",
       "    <tr>\n",
       "      <th>1</th>\n",
       "      <td>0</td>\n",
       "      <td>38.0</td>\n",
       "      <td>71.2833</td>\n",
       "      <td>0</td>\n",
       "      <td>0</td>\n",
       "      <td>0</td>\n",
       "      <td>0</td>\n",
       "      <td>0</td>\n",
       "      <td>0</td>\n",
       "      <td>0</td>\n",
       "      <td>0</td>\n",
       "      <td>0</td>\n",
       "      <td>0</td>\n",
       "      <td>0</td>\n",
       "      <td>1</td>\n",
       "    </tr>\n",
       "    <tr>\n",
       "      <th>2</th>\n",
       "      <td>0</td>\n",
       "      <td>26.0</td>\n",
       "      <td>7.9250</td>\n",
       "      <td>0</td>\n",
       "      <td>1</td>\n",
       "      <td>0</td>\n",
       "      <td>1</td>\n",
       "      <td>0</td>\n",
       "      <td>1</td>\n",
       "      <td>1</td>\n",
       "      <td>0</td>\n",
       "      <td>0</td>\n",
       "      <td>0</td>\n",
       "      <td>0</td>\n",
       "      <td>0</td>\n",
       "    </tr>\n",
       "    <tr>\n",
       "      <th>3</th>\n",
       "      <td>0</td>\n",
       "      <td>35.0</td>\n",
       "      <td>53.1000</td>\n",
       "      <td>0</td>\n",
       "      <td>0</td>\n",
       "      <td>0</td>\n",
       "      <td>1</td>\n",
       "      <td>0</td>\n",
       "      <td>0</td>\n",
       "      <td>0</td>\n",
       "      <td>0</td>\n",
       "      <td>0</td>\n",
       "      <td>0</td>\n",
       "      <td>0</td>\n",
       "      <td>1</td>\n",
       "    </tr>\n",
       "    <tr>\n",
       "      <th>4</th>\n",
       "      <td>1</td>\n",
       "      <td>35.0</td>\n",
       "      <td>8.0500</td>\n",
       "      <td>0</td>\n",
       "      <td>1</td>\n",
       "      <td>0</td>\n",
       "      <td>1</td>\n",
       "      <td>1</td>\n",
       "      <td>0</td>\n",
       "      <td>1</td>\n",
       "      <td>0</td>\n",
       "      <td>1</td>\n",
       "      <td>0</td>\n",
       "      <td>0</td>\n",
       "      <td>0</td>\n",
       "    </tr>\n",
       "  </tbody>\n",
       "</table>\n",
       "</div>"
      ],
      "text/plain": [
       "   Sex   Age     Fare  Pclass_2  Pclass_3  Embarked_Q  Embarked_S  \\\n",
       "0    1  22.0   7.2500         0         1           0           1   \n",
       "1    0  38.0  71.2833         0         0           0           0   \n",
       "2    0  26.0   7.9250         0         1           0           1   \n",
       "3    0  35.0  53.1000         0         0           0           1   \n",
       "4    1  35.0   8.0500         0         1           0           1   \n",
       "\n",
       "   Ticket_Ticket_low  Ticket_Ticket_middle  Cabin_Cabin_low  \\\n",
       "0                  1                     0                1   \n",
       "1                  0                     0                0   \n",
       "2                  0                     1                1   \n",
       "3                  0                     0                0   \n",
       "4                  1                     0                1   \n",
       "\n",
       "   Cabin_Cabin_middle  Title_Title_low  Title_Title_middle  Fsize_Big_family  \\\n",
       "0                   0                1                   0                 0   \n",
       "1                   0                0                   0                 0   \n",
       "2                   0                0                   0                 0   \n",
       "3                   0                0                   0                 0   \n",
       "4                   0                1                   0                 0   \n",
       "\n",
       "   Fsize_Small_family  \n",
       "0                   1  \n",
       "1                   1  \n",
       "2                   0  \n",
       "3                   1  \n",
       "4                   0  "
      ]
     },
     "metadata": {},
     "output_type": "display_data"
    },
    {
     "data": {
      "text/html": [
       "<div>\n",
       "<style scoped>\n",
       "    .dataframe tbody tr th:only-of-type {\n",
       "        vertical-align: middle;\n",
       "    }\n",
       "\n",
       "    .dataframe tbody tr th {\n",
       "        vertical-align: top;\n",
       "    }\n",
       "\n",
       "    .dataframe thead th {\n",
       "        text-align: right;\n",
       "    }\n",
       "</style>\n",
       "<table border=\"1\" class=\"dataframe\">\n",
       "  <thead>\n",
       "    <tr style=\"text-align: right;\">\n",
       "      <th></th>\n",
       "      <th>Sex</th>\n",
       "      <th>Age</th>\n",
       "      <th>Fare</th>\n",
       "      <th>Pclass_2</th>\n",
       "      <th>Pclass_3</th>\n",
       "      <th>Embarked_Q</th>\n",
       "      <th>Embarked_S</th>\n",
       "      <th>Ticket_Ticket_low</th>\n",
       "      <th>Ticket_Ticket_middle</th>\n",
       "      <th>Cabin_Cabin_low</th>\n",
       "      <th>Cabin_Cabin_middle</th>\n",
       "      <th>Title_Title_low</th>\n",
       "      <th>Title_Title_middle</th>\n",
       "      <th>Fsize_Big_family</th>\n",
       "      <th>Fsize_Small_family</th>\n",
       "    </tr>\n",
       "  </thead>\n",
       "  <tbody>\n",
       "    <tr>\n",
       "      <th>0</th>\n",
       "      <td>1</td>\n",
       "      <td>34.0</td>\n",
       "      <td>7.8292</td>\n",
       "      <td>0</td>\n",
       "      <td>1</td>\n",
       "      <td>1</td>\n",
       "      <td>0</td>\n",
       "      <td>1</td>\n",
       "      <td>0</td>\n",
       "      <td>1</td>\n",
       "      <td>0</td>\n",
       "      <td>1</td>\n",
       "      <td>0</td>\n",
       "      <td>0</td>\n",
       "      <td>0</td>\n",
       "    </tr>\n",
       "    <tr>\n",
       "      <th>1</th>\n",
       "      <td>0</td>\n",
       "      <td>47.0</td>\n",
       "      <td>7.0000</td>\n",
       "      <td>0</td>\n",
       "      <td>1</td>\n",
       "      <td>0</td>\n",
       "      <td>1</td>\n",
       "      <td>1</td>\n",
       "      <td>0</td>\n",
       "      <td>1</td>\n",
       "      <td>0</td>\n",
       "      <td>0</td>\n",
       "      <td>0</td>\n",
       "      <td>0</td>\n",
       "      <td>1</td>\n",
       "    </tr>\n",
       "    <tr>\n",
       "      <th>2</th>\n",
       "      <td>1</td>\n",
       "      <td>62.0</td>\n",
       "      <td>9.6875</td>\n",
       "      <td>1</td>\n",
       "      <td>0</td>\n",
       "      <td>1</td>\n",
       "      <td>0</td>\n",
       "      <td>0</td>\n",
       "      <td>1</td>\n",
       "      <td>1</td>\n",
       "      <td>0</td>\n",
       "      <td>1</td>\n",
       "      <td>0</td>\n",
       "      <td>0</td>\n",
       "      <td>0</td>\n",
       "    </tr>\n",
       "    <tr>\n",
       "      <th>3</th>\n",
       "      <td>1</td>\n",
       "      <td>27.0</td>\n",
       "      <td>8.6625</td>\n",
       "      <td>0</td>\n",
       "      <td>1</td>\n",
       "      <td>0</td>\n",
       "      <td>1</td>\n",
       "      <td>1</td>\n",
       "      <td>0</td>\n",
       "      <td>1</td>\n",
       "      <td>0</td>\n",
       "      <td>1</td>\n",
       "      <td>0</td>\n",
       "      <td>0</td>\n",
       "      <td>0</td>\n",
       "    </tr>\n",
       "    <tr>\n",
       "      <th>4</th>\n",
       "      <td>0</td>\n",
       "      <td>22.0</td>\n",
       "      <td>12.2875</td>\n",
       "      <td>0</td>\n",
       "      <td>1</td>\n",
       "      <td>0</td>\n",
       "      <td>1</td>\n",
       "      <td>1</td>\n",
       "      <td>0</td>\n",
       "      <td>1</td>\n",
       "      <td>0</td>\n",
       "      <td>0</td>\n",
       "      <td>0</td>\n",
       "      <td>0</td>\n",
       "      <td>1</td>\n",
       "    </tr>\n",
       "  </tbody>\n",
       "</table>\n",
       "</div>"
      ],
      "text/plain": [
       "   Sex   Age     Fare  Pclass_2  Pclass_3  Embarked_Q  Embarked_S  \\\n",
       "0    1  34.0   7.8292         0         1           1           0   \n",
       "1    0  47.0   7.0000         0         1           0           1   \n",
       "2    1  62.0   9.6875         1         0           1           0   \n",
       "3    1  27.0   8.6625         0         1           0           1   \n",
       "4    0  22.0  12.2875         0         1           0           1   \n",
       "\n",
       "   Ticket_Ticket_low  Ticket_Ticket_middle  Cabin_Cabin_low  \\\n",
       "0                  1                     0                1   \n",
       "1                  1                     0                1   \n",
       "2                  0                     1                1   \n",
       "3                  1                     0                1   \n",
       "4                  1                     0                1   \n",
       "\n",
       "   Cabin_Cabin_middle  Title_Title_low  Title_Title_middle  Fsize_Big_family  \\\n",
       "0                   0                1                   0                 0   \n",
       "1                   0                0                   0                 0   \n",
       "2                   0                1                   0                 0   \n",
       "3                   0                1                   0                 0   \n",
       "4                   0                0                   0                 0   \n",
       "\n",
       "   Fsize_Small_family  \n",
       "0                   0  \n",
       "1                   1  \n",
       "2                   0  \n",
       "3                   0  \n",
       "4                   1  "
      ]
     },
     "metadata": {},
     "output_type": "display_data"
    },
    {
     "name": "stdout",
     "output_type": "stream",
     "text": [
      "<class 'pandas.core.frame.DataFrame'>\n",
      "RangeIndex: 891 entries, 0 to 890\n",
      "Data columns (total 15 columns):\n",
      " #   Column                Non-Null Count  Dtype  \n",
      "---  ------                --------------  -----  \n",
      " 0   Sex                   891 non-null    int64  \n",
      " 1   Age                   891 non-null    float64\n",
      " 2   Fare                  891 non-null    float64\n",
      " 3   Pclass_2              891 non-null    uint8  \n",
      " 4   Pclass_3              891 non-null    uint8  \n",
      " 5   Embarked_Q            891 non-null    uint8  \n",
      " 6   Embarked_S            891 non-null    uint8  \n",
      " 7   Ticket_Ticket_low     891 non-null    uint8  \n",
      " 8   Ticket_Ticket_middle  891 non-null    uint8  \n",
      " 9   Cabin_Cabin_low       891 non-null    uint8  \n",
      " 10  Cabin_Cabin_middle    891 non-null    uint8  \n",
      " 11  Title_Title_low       891 non-null    uint8  \n",
      " 12  Title_Title_middle    891 non-null    uint8  \n",
      " 13  Fsize_Big_family      891 non-null    uint8  \n",
      " 14  Fsize_Small_family    891 non-null    uint8  \n",
      "dtypes: float64(2), int64(1), uint8(12)\n",
      "memory usage: 31.4 KB\n",
      "None\n",
      "<class 'pandas.core.frame.DataFrame'>\n",
      "RangeIndex: 418 entries, 0 to 417\n",
      "Data columns (total 15 columns):\n",
      " #   Column                Non-Null Count  Dtype  \n",
      "---  ------                --------------  -----  \n",
      " 0   Sex                   418 non-null    int64  \n",
      " 1   Age                   418 non-null    float64\n",
      " 2   Fare                  418 non-null    float64\n",
      " 3   Pclass_2              418 non-null    uint8  \n",
      " 4   Pclass_3              418 non-null    uint8  \n",
      " 5   Embarked_Q            418 non-null    uint8  \n",
      " 6   Embarked_S            418 non-null    uint8  \n",
      " 7   Ticket_Ticket_low     418 non-null    uint8  \n",
      " 8   Ticket_Ticket_middle  418 non-null    uint8  \n",
      " 9   Cabin_Cabin_low       418 non-null    uint8  \n",
      " 10  Cabin_Cabin_middle    418 non-null    uint8  \n",
      " 11  Title_Title_low       418 non-null    uint8  \n",
      " 12  Title_Title_middle    418 non-null    uint8  \n",
      " 13  Fsize_Big_family      418 non-null    uint8  \n",
      " 14  Fsize_Small_family    418 non-null    uint8  \n",
      "dtypes: float64(2), int64(1), uint8(12)\n",
      "memory usage: 14.8 KB\n",
      "None\n"
     ]
    }
   ],
   "source": [
    "display(train.head())\n",
    "display(test.head())\n",
    "\n",
    "print(train.info())\n",
    "print(test.info())"
   ]
  },
  {
   "cell_type": "markdown",
   "id": "50dc6246",
   "metadata": {
    "papermill": {
     "duration": 0.043996,
     "end_time": "2022-02-06T18:04:30.270253",
     "exception": false,
     "start_time": "2022-02-06T18:04:30.226257",
     "status": "completed"
    },
    "tags": []
   },
   "source": [
    "# 3. Machine Learning\n",
    "\n",
    "To evaluate our model's performance, we need to split our train data into training and test sets."
   ]
  },
  {
   "cell_type": "code",
   "execution_count": 29,
   "id": "5814b81a",
   "metadata": {
    "execution": {
     "iopub.execute_input": "2022-02-06T18:04:30.362229Z",
     "iopub.status.busy": "2022-02-06T18:04:30.361602Z",
     "iopub.status.idle": "2022-02-06T18:04:30.367771Z",
     "shell.execute_reply": "2022-02-06T18:04:30.368270Z",
     "shell.execute_reply.started": "2022-02-06T17:56:43.187219Z"
    },
    "papermill": {
     "duration": 0.053165,
     "end_time": "2022-02-06T18:04:30.368441",
     "exception": false,
     "start_time": "2022-02-06T18:04:30.315276",
     "status": "completed"
    },
    "tags": []
   },
   "outputs": [],
   "source": [
    "from sklearn.model_selection import train_test_split\n",
    "\n",
    "# Select the features and the target\n",
    "X = train.values\n",
    "y = target.values\n",
    "\n",
    "# Split the data info training and test sets\n",
    "X_train, X_test, y_train, y_test = train_test_split(X, y, test_size=0.2, random_state=34, stratify=y)"
   ]
  },
  {
   "cell_type": "markdown",
   "id": "a3bc398f",
   "metadata": {
    "papermill": {
     "duration": 0.043621,
     "end_time": "2022-02-06T18:04:30.456230",
     "exception": false,
     "start_time": "2022-02-06T18:04:30.412609",
     "status": "completed"
    },
    "tags": []
   },
   "source": [
    "I have used GridSearchCV for tuning my Random Forest Classifier"
   ]
  },
  {
   "cell_type": "code",
   "execution_count": 30,
   "id": "828bfc80",
   "metadata": {
    "execution": {
     "iopub.execute_input": "2022-02-06T18:04:30.546896Z",
     "iopub.status.busy": "2022-02-06T18:04:30.546240Z",
     "iopub.status.idle": "2022-02-06T21:00:00.349353Z",
     "shell.execute_reply": "2022-02-06T21:00:00.350102Z"
    },
    "papermill": {
     "duration": 10529.850974,
     "end_time": "2022-02-06T21:00:00.351078",
     "exception": false,
     "start_time": "2022-02-06T18:04:30.500104",
     "status": "completed"
    },
    "tags": []
   },
   "outputs": [
    {
     "name": "stdout",
     "output_type": "stream",
     "text": [
      "RandomForestClassifier(max_depth=4, max_leaf_nodes=5, min_samples_split=15,\n",
      "                       n_estimators=350, random_state=34)\n",
      "0.8397691705790298\n",
      "Accuracy:  0.7988826815642458\n",
      "\n",
      "Confusion Matrix\n",
      "\n",
      "[[98 12]\n",
      " [24 45]]\n"
     ]
    }
   ],
   "source": [
    "# Import Necessary libraries\n",
    "from sklearn.ensemble import RandomForestClassifier\n",
    "from sklearn.model_selection import cross_val_score\n",
    "from sklearn.model_selection import GridSearchCV, RandomizedSearchCV\n",
    "from sklearn.metrics import accuracy_score, roc_auc_score, confusion_matrix, classification_report\n",
    "\n",
    "# Initialize a RandomForestClassifier\n",
    "rf = RandomForestClassifier(random_state=34)\n",
    "\n",
    "params = {'n_estimators': [50, 100, 200, 300, 350],\n",
    "          'max_depth': [3,4,5,7, 10,15,20],\n",
    "          'criterion':['entropy', 'gini'],\n",
    "          'min_samples_leaf' : [1, 2, 3, 4, 5, 10],\n",
    "          'max_features':['auto'],\n",
    "          'min_samples_split': [3, 5, 10, 15, 20],\n",
    "          'max_leaf_nodes':[2,3,4,5],\n",
    "          }\n",
    "\n",
    "clf = GridSearchCV(estimator=rf,param_grid=params,cv=10, n_jobs=-1)\n",
    "\n",
    "clf.fit(X_train, y_train.ravel())\n",
    "\n",
    "print(clf.best_estimator_)\n",
    "print(clf.best_score_)\n",
    "\n",
    "rf_best = clf.best_estimator_\n",
    "\n",
    "# Predict from the test set\n",
    "y_pred = clf.predict(X_test)\n",
    "\n",
    "# Print the accuracy with accuracy_score function\n",
    "print(\"Accuracy: \", accuracy_score(y_test, y_pred))\n",
    "\n",
    "# Print the confusion matrix\n",
    "print(\"\\nConfusion Matrix\\n\")\n",
    "print(confusion_matrix(y_test, y_pred))"
   ]
  },
  {
   "cell_type": "markdown",
   "id": "78e7f937",
   "metadata": {
    "papermill": {
     "duration": 0.044497,
     "end_time": "2022-02-06T21:00:00.440130",
     "exception": false,
     "start_time": "2022-02-06T21:00:00.395633",
     "status": "completed"
    },
    "tags": []
   },
   "source": [
    "Save the model\n",
    "\n"
   ]
  },
  {
   "cell_type": "code",
   "execution_count": 31,
   "id": "4ad90728",
   "metadata": {
    "execution": {
     "iopub.execute_input": "2022-02-06T21:00:00.536031Z",
     "iopub.status.busy": "2022-02-06T21:00:00.535294Z",
     "iopub.status.idle": "2022-02-06T21:00:00.550783Z",
     "shell.execute_reply": "2022-02-06T21:00:00.551480Z"
    },
    "papermill": {
     "duration": 0.067123,
     "end_time": "2022-02-06T21:00:00.551649",
     "exception": false,
     "start_time": "2022-02-06T21:00:00.484526",
     "status": "completed"
    },
    "tags": []
   },
   "outputs": [],
   "source": [
    "pickle.dump(rf_best, open(\"model.pkl\", 'wb'))\n"
   ]
  },
  {
   "cell_type": "markdown",
   "id": "1107fba4",
   "metadata": {
    "papermill": {
     "duration": 0.044025,
     "end_time": "2022-02-06T21:00:00.640223",
     "exception": false,
     "start_time": "2022-02-06T21:00:00.596198",
     "status": "completed"
    },
    "tags": []
   },
   "source": [
    "We can look at the feature importances."
   ]
  },
  {
   "cell_type": "code",
   "execution_count": 32,
   "id": "60fb22fa",
   "metadata": {
    "execution": {
     "iopub.execute_input": "2022-02-06T21:00:00.732340Z",
     "iopub.status.busy": "2022-02-06T21:00:00.731635Z",
     "iopub.status.idle": "2022-02-06T21:00:01.018974Z",
     "shell.execute_reply": "2022-02-06T21:00:01.018257Z",
     "shell.execute_reply.started": "2022-02-06T17:53:22.81372Z"
    },
    "papermill": {
     "duration": 0.334077,
     "end_time": "2022-02-06T21:00:01.019131",
     "exception": false,
     "start_time": "2022-02-06T21:00:00.685054",
     "status": "completed"
    },
    "tags": []
   },
   "outputs": [
    {
     "data": {
      "image/png": "[encoded data removed]",
      "text/plain": [
       "<Figure size 432x288 with 1 Axes>"
      ]
     },
     "metadata": {
      "needs_background": "light"
     },
     "output_type": "display_data"
    }
   ],
   "source": [
    "# Create a pandas series with feature importances\n",
    "importance = pd.Series(rf_best.feature_importances_,index=train.columns).sort_values(ascending=False)\n",
    "\n",
    "sns.barplot(x=importance, y=importance.index)\n",
    "# Add labels to your graph\n",
    "plt.xlabel('Importance')\n",
    "plt.ylabel('Feature')\n",
    "plt.title(\"Important Features\")\n",
    "plt.show()"
   ]
  },
  {
   "cell_type": "markdown",
   "id": "c178bb8a",
   "metadata": {
    "papermill": {
     "duration": 0.045572,
     "end_time": "2022-02-06T21:00:01.111621",
     "exception": false,
     "start_time": "2022-02-06T21:00:01.066049",
     "status": "completed"
    },
    "tags": []
   },
   "source": [
    "Train the model again with entire train data.\n",
    "\n"
   ]
  },
  {
   "cell_type": "code",
   "execution_count": 33,
   "id": "a1b0ad23",
   "metadata": {
    "execution": {
     "iopub.execute_input": "2022-02-06T21:00:01.227604Z",
     "iopub.status.busy": "2022-02-06T21:00:01.211961Z",
     "iopub.status.idle": "2022-02-06T21:00:01.850396Z",
     "shell.execute_reply": "2022-02-06T21:00:01.849650Z",
     "shell.execute_reply.started": "2022-02-06T17:53:22.815157Z"
    },
    "papermill": {
     "duration": 0.692966,
     "end_time": "2022-02-06T21:00:01.850547",
     "exception": false,
     "start_time": "2022-02-06T21:00:01.157581",
     "status": "completed"
    },
    "tags": []
   },
   "outputs": [
    {
     "name": "stdout",
     "output_type": "stream",
     "text": [
      "0.8238\n"
     ]
    }
   ],
   "source": [
    "last_clf = RandomForestClassifier(bootstrap=True, ccp_alpha=0.0, class_weight=None,\n",
    "                       criterion='gini', max_depth=4, max_features='auto',\n",
    "                       max_leaf_nodes=5, max_samples=None,\n",
    "                       min_impurity_decrease=0.0, min_impurity_split=None,\n",
    "                       min_samples_leaf=1, min_samples_split=15,\n",
    "                       min_weight_fraction_leaf=0.0, n_estimators=350,\n",
    "                       n_jobs=None, oob_score=True, random_state=34, verbose=0,\n",
    "                       warm_start=False)\n",
    "\n",
    "last_clf.fit(train, target)\n",
    "print(\"%.4f\" % last_clf.oob_score_)"
   ]
  },
  {
   "cell_type": "markdown",
   "id": "0d5d5c9f",
   "metadata": {
    "papermill": {
     "duration": 0.045419,
     "end_time": "2022-02-06T21:00:01.941489",
     "exception": false,
     "start_time": "2022-02-06T21:00:01.896070",
     "status": "completed"
    },
    "tags": []
   },
   "source": [
    "Prepare the submission file\n",
    "\n"
   ]
  },
  {
   "cell_type": "code",
   "execution_count": 34,
   "id": "a6e572a5",
   "metadata": {
    "execution": {
     "iopub.execute_input": "2022-02-06T21:00:02.040666Z",
     "iopub.status.busy": "2022-02-06T21:00:02.039798Z",
     "iopub.status.idle": "2022-02-06T21:00:02.159857Z",
     "shell.execute_reply": "2022-02-06T21:00:02.159265Z",
     "shell.execute_reply.started": "2022-02-06T17:53:22.81629Z"
    },
    "papermill": {
     "duration": 0.173529,
     "end_time": "2022-02-06T21:00:02.161223",
     "exception": true,
     "start_time": "2022-02-06T21:00:01.987694",
     "status": "failed"
    },
    "tags": []
   },
   "outputs": [
    {
     "ename": "FileNotFoundError",
     "evalue": "[Errno 2] No such file or directory: 'test.csv'",
     "output_type": "error",
     "traceback": [
      "\u001b[0;31m---------------------------------------------------------------------------\u001b[0m",
      "\u001b[0;31mFileNotFoundError\u001b[0m                         Traceback (most recent call last)",
      "\u001b[0;32m/tmp/ipykernel_20/431364097.py\u001b[0m in \u001b[0;36m<module>\u001b[0;34m\u001b[0m\n\u001b[1;32m      1\u001b[0m \u001b[0;31m# Store passenger ids\u001b[0m\u001b[0;34m\u001b[0m\u001b[0;34m\u001b[0m\u001b[0;34m\u001b[0m\u001b[0m\n\u001b[0;32m----> 2\u001b[0;31m \u001b[0mids\u001b[0m \u001b[0;34m=\u001b[0m \u001b[0mpd\u001b[0m\u001b[0;34m.\u001b[0m\u001b[0mread_csv\u001b[0m\u001b[0;34m(\u001b[0m\u001b[0;34m\"test.csv\"\u001b[0m\u001b[0;34m)\u001b[0m\u001b[0;34m[\u001b[0m\u001b[0;34m[\u001b[0m\u001b[0;34m\"PassengerId\"\u001b[0m\u001b[0;34m]\u001b[0m\u001b[0;34m]\u001b[0m\u001b[0;34m.\u001b[0m\u001b[0mvalues\u001b[0m\u001b[0;34m\u001b[0m\u001b[0;34m\u001b[0m\u001b[0m\n\u001b[0m\u001b[1;32m      3\u001b[0m \u001b[0;34m\u001b[0m\u001b[0m\n\u001b[1;32m      4\u001b[0m \u001b[0;31m# Make predictions\u001b[0m\u001b[0;34m\u001b[0m\u001b[0;34m\u001b[0m\u001b[0;34m\u001b[0m\u001b[0m\n\u001b[1;32m      5\u001b[0m \u001b[0mpredictions\u001b[0m \u001b[0;34m=\u001b[0m \u001b[0mlast_clf\u001b[0m\u001b[0;34m.\u001b[0m\u001b[0mpredict\u001b[0m\u001b[0;34m(\u001b[0m\u001b[0mtest\u001b[0m\u001b[0;34m.\u001b[0m\u001b[0mvalues\u001b[0m\u001b[0;34m)\u001b[0m\u001b[0;34m\u001b[0m\u001b[0;34m\u001b[0m\u001b[0m\n",
      "\u001b[0;32m/opt/conda/lib/python3.7/site-packages/pandas/util/_decorators.py\u001b[0m in \u001b[0;36mwrapper\u001b[0;34m(*args, **kwargs)\u001b[0m\n\u001b[1;32m    309\u001b[0m                     \u001b[0mstacklevel\u001b[0m\u001b[0;34m=\u001b[0m\u001b[0mstacklevel\u001b[0m\u001b[0;34m,\u001b[0m\u001b[0;34m\u001b[0m\u001b[0;34m\u001b[0m\u001b[0m\n\u001b[1;32m    310\u001b[0m                 )\n\u001b[0;32m--> 311\u001b[0;31m             \u001b[0;32mreturn\u001b[0m \u001b[0mfunc\u001b[0m\u001b[0;34m(\u001b[0m\u001b[0;34m*\u001b[0m\u001b[0margs\u001b[0m\u001b[0;34m,\u001b[0m \u001b[0;34m**\u001b[0m\u001b[0mkwargs\u001b[0m\u001b[0;34m)\u001b[0m\u001b[0;34m\u001b[0m\u001b[0;34m\u001b[0m\u001b[0m\n\u001b[0m\u001b[1;32m    312\u001b[0m \u001b[0;34m\u001b[0m\u001b[0m\n\u001b[1;32m    313\u001b[0m         \u001b[0;32mreturn\u001b[0m \u001b[0mwrapper\u001b[0m\u001b[0;34m\u001b[0m\u001b[0;34m\u001b[0m\u001b[0m\n",
      "\u001b[0;32m/opt/conda/lib/python3.7/site-packages/pandas/io/parsers/readers.py\u001b[0m in \u001b[0;36mread_csv\u001b[0;34m(filepath_or_buffer, sep, delimiter, header, names, index_col, usecols, squeeze, prefix, mangle_dupe_cols, dtype, engine, converters, true_values, false_values, skipinitialspace, skiprows, skipfooter, nrows, na_values, keep_default_na, na_filter, verbose, skip_blank_lines, parse_dates, infer_datetime_format, keep_date_col, date_parser, dayfirst, cache_dates, iterator, chunksize, compression, thousands, decimal, lineterminator, quotechar, quoting, doublequote, escapechar, comment, encoding, encoding_errors, dialect, error_bad_lines, warn_bad_lines, on_bad_lines, delim_whitespace, low_memory, memory_map, float_precision, storage_options)\u001b[0m\n\u001b[1;32m    584\u001b[0m     \u001b[0mkwds\u001b[0m\u001b[0;34m.\u001b[0m\u001b[0mupdate\u001b[0m\u001b[0;34m(\u001b[0m\u001b[0mkwds_defaults\u001b[0m\u001b[0;34m)\u001b[0m\u001b[0;34m\u001b[0m\u001b[0;34m\u001b[0m\u001b[0m\n\u001b[1;32m    585\u001b[0m \u001b[0;34m\u001b[0m\u001b[0m\n\u001b[0;32m--> 586\u001b[0;31m     \u001b[0;32mreturn\u001b[0m \u001b[0m_read\u001b[0m\u001b[0;34m(\u001b[0m\u001b[0mfilepath_or_buffer\u001b[0m\u001b[0;34m,\u001b[0m \u001b[0mkwds\u001b[0m\u001b[0;34m)\u001b[0m\u001b[0;34m\u001b[0m\u001b[0;34m\u001b[0m\u001b[0m\n\u001b[0m\u001b[1;32m    587\u001b[0m \u001b[0;34m\u001b[0m\u001b[0m\n\u001b[1;32m    588\u001b[0m \u001b[0;34m\u001b[0m\u001b[0m\n",
      "\u001b[0;32m/opt/conda/lib/python3.7/site-packages/pandas/io/parsers/readers.py\u001b[0m in \u001b[0;36m_read\u001b[0;34m(filepath_or_buffer, kwds)\u001b[0m\n\u001b[1;32m    480\u001b[0m \u001b[0;34m\u001b[0m\u001b[0m\n\u001b[1;32m    481\u001b[0m     \u001b[0;31m# Create the parser.\u001b[0m\u001b[0;34m\u001b[0m\u001b[0;34m\u001b[0m\u001b[0;34m\u001b[0m\u001b[0m\n\u001b[0;32m--> 482\u001b[0;31m     \u001b[0mparser\u001b[0m \u001b[0;34m=\u001b[0m \u001b[0mTextFileReader\u001b[0m\u001b[0;34m(\u001b[0m\u001b[0mfilepath_or_buffer\u001b[0m\u001b[0;34m,\u001b[0m \u001b[0;34m**\u001b[0m\u001b[0mkwds\u001b[0m\u001b[0;34m)\u001b[0m\u001b[0;34m\u001b[0m\u001b[0;34m\u001b[0m\u001b[0m\n\u001b[0m\u001b[1;32m    483\u001b[0m \u001b[0;34m\u001b[0m\u001b[0m\n\u001b[1;32m    484\u001b[0m     \u001b[0;32mif\u001b[0m \u001b[0mchunksize\u001b[0m \u001b[0;32mor\u001b[0m \u001b[0miterator\u001b[0m\u001b[0;34m:\u001b[0m\u001b[0;34m\u001b[0m\u001b[0;34m\u001b[0m\u001b[0m\n",
      "\u001b[0;32m/opt/conda/lib/python3.7/site-packages/pandas/io/parsers/readers.py\u001b[0m in \u001b[0;36m__init__\u001b[0;34m(self, f, engine, **kwds)\u001b[0m\n\u001b[1;32m    809\u001b[0m             \u001b[0mself\u001b[0m\u001b[0;34m.\u001b[0m\u001b[0moptions\u001b[0m\u001b[0;34m[\u001b[0m\u001b[0;34m\"has_index_names\"\u001b[0m\u001b[0;34m]\u001b[0m \u001b[0;34m=\u001b[0m \u001b[0mkwds\u001b[0m\u001b[0;34m[\u001b[0m\u001b[0;34m\"has_index_names\"\u001b[0m\u001b[0;34m]\u001b[0m\u001b[0;34m\u001b[0m\u001b[0;34m\u001b[0m\u001b[0m\n\u001b[1;32m    810\u001b[0m \u001b[0;34m\u001b[0m\u001b[0m\n\u001b[0;32m--> 811\u001b[0;31m         \u001b[0mself\u001b[0m\u001b[0;34m.\u001b[0m\u001b[0m_engine\u001b[0m \u001b[0;34m=\u001b[0m \u001b[0mself\u001b[0m\u001b[0;34m.\u001b[0m\u001b[0m_make_engine\u001b[0m\u001b[0;34m(\u001b[0m\u001b[0mself\u001b[0m\u001b[0;34m.\u001b[0m\u001b[0mengine\u001b[0m\u001b[0;34m)\u001b[0m\u001b[0;34m\u001b[0m\u001b[0;34m\u001b[0m\u001b[0m\n\u001b[0m\u001b[1;32m    812\u001b[0m \u001b[0;34m\u001b[0m\u001b[0m\n\u001b[1;32m    813\u001b[0m     \u001b[0;32mdef\u001b[0m \u001b[0mclose\u001b[0m\u001b[0;34m(\u001b[0m\u001b[0mself\u001b[0m\u001b[0;34m)\u001b[0m\u001b[0;34m:\u001b[0m\u001b[0;34m\u001b[0m\u001b[0;34m\u001b[0m\u001b[0m\n",
      "\u001b[0;32m/opt/conda/lib/python3.7/site-packages/pandas/io/parsers/readers.py\u001b[0m in \u001b[0;36m_make_engine\u001b[0;34m(self, engine)\u001b[0m\n\u001b[1;32m   1038\u001b[0m             )\n\u001b[1;32m   1039\u001b[0m         \u001b[0;31m# error: Too many arguments for \"ParserBase\"\u001b[0m\u001b[0;34m\u001b[0m\u001b[0;34m\u001b[0m\u001b[0;34m\u001b[0m\u001b[0m\n\u001b[0;32m-> 1040\u001b[0;31m         \u001b[0;32mreturn\u001b[0m \u001b[0mmapping\u001b[0m\u001b[0;34m[\u001b[0m\u001b[0mengine\u001b[0m\u001b[0;34m]\u001b[0m\u001b[0;34m(\u001b[0m\u001b[0mself\u001b[0m\u001b[0;34m.\u001b[0m\u001b[0mf\u001b[0m\u001b[0;34m,\u001b[0m \u001b[0;34m**\u001b[0m\u001b[0mself\u001b[0m\u001b[0;34m.\u001b[0m\u001b[0moptions\u001b[0m\u001b[0;34m)\u001b[0m  \u001b[0;31m# type: ignore[call-arg]\u001b[0m\u001b[0;34m\u001b[0m\u001b[0;34m\u001b[0m\u001b[0m\n\u001b[0m\u001b[1;32m   1041\u001b[0m \u001b[0;34m\u001b[0m\u001b[0m\n\u001b[1;32m   1042\u001b[0m     \u001b[0;32mdef\u001b[0m \u001b[0m_failover_to_python\u001b[0m\u001b[0;34m(\u001b[0m\u001b[0mself\u001b[0m\u001b[0;34m)\u001b[0m\u001b[0;34m:\u001b[0m\u001b[0;34m\u001b[0m\u001b[0;34m\u001b[0m\u001b[0m\n",
      "\u001b[0;32m/opt/conda/lib/python3.7/site-packages/pandas/io/parsers/c_parser_wrapper.py\u001b[0m in \u001b[0;36m__init__\u001b[0;34m(self, src, **kwds)\u001b[0m\n\u001b[1;32m     49\u001b[0m \u001b[0;34m\u001b[0m\u001b[0m\n\u001b[1;32m     50\u001b[0m         \u001b[0;31m# open handles\u001b[0m\u001b[0;34m\u001b[0m\u001b[0;34m\u001b[0m\u001b[0;34m\u001b[0m\u001b[0m\n\u001b[0;32m---> 51\u001b[0;31m         \u001b[0mself\u001b[0m\u001b[0;34m.\u001b[0m\u001b[0m_open_handles\u001b[0m\u001b[0;34m(\u001b[0m\u001b[0msrc\u001b[0m\u001b[0;34m,\u001b[0m \u001b[0mkwds\u001b[0m\u001b[0;34m)\u001b[0m\u001b[0;34m\u001b[0m\u001b[0;34m\u001b[0m\u001b[0m\n\u001b[0m\u001b[1;32m     52\u001b[0m         \u001b[0;32massert\u001b[0m \u001b[0mself\u001b[0m\u001b[0;34m.\u001b[0m\u001b[0mhandles\u001b[0m \u001b[0;32mis\u001b[0m \u001b[0;32mnot\u001b[0m \u001b[0;32mNone\u001b[0m\u001b[0;34m\u001b[0m\u001b[0;34m\u001b[0m\u001b[0m\n\u001b[1;32m     53\u001b[0m \u001b[0;34m\u001b[0m\u001b[0m\n",
      "\u001b[0;32m/opt/conda/lib/python3.7/site-packages/pandas/io/parsers/base_parser.py\u001b[0m in \u001b[0;36m_open_handles\u001b[0;34m(self, src, kwds)\u001b[0m\n\u001b[1;32m    227\u001b[0m             \u001b[0mmemory_map\u001b[0m\u001b[0;34m=\u001b[0m\u001b[0mkwds\u001b[0m\u001b[0;34m.\u001b[0m\u001b[0mget\u001b[0m\u001b[0;34m(\u001b[0m\u001b[0;34m\"memory_map\"\u001b[0m\u001b[0;34m,\u001b[0m \u001b[0;32mFalse\u001b[0m\u001b[0;34m)\u001b[0m\u001b[0;34m,\u001b[0m\u001b[0;34m\u001b[0m\u001b[0;34m\u001b[0m\u001b[0m\n\u001b[1;32m    228\u001b[0m             \u001b[0mstorage_options\u001b[0m\u001b[0;34m=\u001b[0m\u001b[0mkwds\u001b[0m\u001b[0;34m.\u001b[0m\u001b[0mget\u001b[0m\u001b[0;34m(\u001b[0m\u001b[0;34m\"storage_options\"\u001b[0m\u001b[0;34m,\u001b[0m \u001b[0;32mNone\u001b[0m\u001b[0;34m)\u001b[0m\u001b[0;34m,\u001b[0m\u001b[0;34m\u001b[0m\u001b[0;34m\u001b[0m\u001b[0m\n\u001b[0;32m--> 229\u001b[0;31m             \u001b[0merrors\u001b[0m\u001b[0;34m=\u001b[0m\u001b[0mkwds\u001b[0m\u001b[0;34m.\u001b[0m\u001b[0mget\u001b[0m\u001b[0;34m(\u001b[0m\u001b[0;34m\"encoding_errors\"\u001b[0m\u001b[0;34m,\u001b[0m \u001b[0;34m\"strict\"\u001b[0m\u001b[0;34m)\u001b[0m\u001b[0;34m,\u001b[0m\u001b[0;34m\u001b[0m\u001b[0;34m\u001b[0m\u001b[0m\n\u001b[0m\u001b[1;32m    230\u001b[0m         )\n\u001b[1;32m    231\u001b[0m \u001b[0;34m\u001b[0m\u001b[0m\n",
      "\u001b[0;32m/opt/conda/lib/python3.7/site-packages/pandas/io/common.py\u001b[0m in \u001b[0;36mget_handle\u001b[0;34m(path_or_buf, mode, encoding, compression, memory_map, is_text, errors, storage_options)\u001b[0m\n\u001b[1;32m    705\u001b[0m                 \u001b[0mencoding\u001b[0m\u001b[0;34m=\u001b[0m\u001b[0mioargs\u001b[0m\u001b[0;34m.\u001b[0m\u001b[0mencoding\u001b[0m\u001b[0;34m,\u001b[0m\u001b[0;34m\u001b[0m\u001b[0;34m\u001b[0m\u001b[0m\n\u001b[1;32m    706\u001b[0m                 \u001b[0merrors\u001b[0m\u001b[0;34m=\u001b[0m\u001b[0merrors\u001b[0m\u001b[0;34m,\u001b[0m\u001b[0;34m\u001b[0m\u001b[0;34m\u001b[0m\u001b[0m\n\u001b[0;32m--> 707\u001b[0;31m                 \u001b[0mnewline\u001b[0m\u001b[0;34m=\u001b[0m\u001b[0;34m\"\"\u001b[0m\u001b[0;34m,\u001b[0m\u001b[0;34m\u001b[0m\u001b[0;34m\u001b[0m\u001b[0m\n\u001b[0m\u001b[1;32m    708\u001b[0m             )\n\u001b[1;32m    709\u001b[0m         \u001b[0;32melse\u001b[0m\u001b[0;34m:\u001b[0m\u001b[0;34m\u001b[0m\u001b[0;34m\u001b[0m\u001b[0m\n",
      "\u001b[0;31mFileNotFoundError\u001b[0m: [Errno 2] No such file or directory: 'test.csv'"
     ]
    }
   ],
   "source": [
    "# Store passenger ids\n",
    "ids = pd.read_csv(\"test.csv\")[[\"PassengerId\"]].values\n",
    "\n",
    "# Make predictions\n",
    "predictions = last_clf.predict(test.values)\n",
    "\n",
    "# Print the predictions\n",
    "print(predictions)\n",
    "\n",
    "# Create a dictionary with passenger ids and predictions\n",
    "df = {'PassengerId': ids.ravel(), 'Survived':predictions}\n",
    "\n",
    "# Create a DataFrame named submission\n",
    "submission = pd.DataFrame(df)\n",
    "\n",
    "# Display the first five rows of submission\n",
    "display(submission.head())\n",
    "\n",
    "# Save the file\n",
    "submission.to_csv(\"submission_last.csv\", index=False)"
   ]
  },
  {
   "cell_type": "code",
   "execution_count": null,
   "id": "2770ab5d",
   "metadata": {
    "papermill": {
     "duration": null,
     "end_time": null,
     "exception": null,
     "start_time": null,
     "status": "pending"
    },
    "tags": []
   },
   "outputs": [],
   "source": []
  },
  {
   "cell_type": "code",
   "execution_count": null,
   "id": "702fdf4c",
   "metadata": {
    "papermill": {
     "duration": null,
     "end_time": null,
     "exception": null,
     "start_time": null,
     "status": "pending"
    },
    "tags": []
   },
   "outputs": [],
   "source": []
  }
 ],
 "metadata": {
  "kernelspec": {
   "display_name": "Python 3",
   "language": "python",
   "name": "python3"
  },
  "language_info": {
   "codemirror_mode": {
    "name": "ipython",
    "version": 3
   },
   "file_extension": ".py",
   "mimetype": "text/x-python",
   "name": "python",
   "nbconvert_exporter": "python",
   "pygments_lexer": "ipython3",
   "version": "3.7.12"
  },
  "papermill": {
   "default_parameters": {},
   "duration": 10549.676497,
   "end_time": "2022-02-06T21:00:03.055765",
   "environment_variables": {},
   "exception": true,
   "input_path": "__notebook__.ipynb",
   "output_path": "__notebook__.ipynb",
   "parameters": {},
   "start_time": "2022-02-06T18:04:13.379268",
   "version": "2.3.3"
  }
 },
 "nbformat": 4,
 "nbformat_minor": 5
}
